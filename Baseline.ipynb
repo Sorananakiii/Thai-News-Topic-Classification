{
 "cells": [
  {
   "cell_type": "code",
   "execution_count": 0,
   "metadata": {
    "colab": {},
    "colab_type": "code",
    "id": "ygg7LDi4GDZb"
   },
   "outputs": [],
   "source": [
    "%matplotlib inline\n",
    "import collections\n",
    "import pandas as pd\n",
    "import sklearn\n",
    "import numpy as np\n",
    "from IPython.display import display\n",
    "import matplotlib.pyplot as plt\n",
    "\n",
    "from sklearn.model_selection import train_test_split\n",
    "from sklearn.metrics import f1_score, classification_report\n",
    "\n",
    "from tensorflow.keras.models import Sequential\n",
    "from tensorflow.keras.layers import LSTM, Dense, Flatten, Embedding, Bidirectional, Dropout\n",
    "from tensorflow.keras.utils import to_categorical, plot_model\n",
    "from tensorflow.keras.preprocessing.sequence import pad_sequences"
   ]
  },
  {
   "cell_type": "code",
   "execution_count": 2,
   "metadata": {
    "colab": {
     "base_uri": "https://localhost:8080/",
     "height": 1000
    },
    "colab_type": "code",
    "id": "k6eaAfNfG3iN",
    "outputId": "92041b52-6164-41dd-897d-0d570945675f"
   },
   "outputs": [
    {
     "name": "stdout",
     "output_type": "stream",
     "text": [
      "Collecting fasttext\n",
      "\u001b[?25l  Downloading https://files.pythonhosted.org/packages/f8/85/e2b368ab6d3528827b147fdb814f8189acc981a4bc2f99ab894650e05c40/fasttext-0.9.2.tar.gz (68kB)\n",
      "\r",
      "\u001b[K     |████▊                           | 10kB 26.7MB/s eta 0:00:01\r",
      "\u001b[K     |█████████▌                      | 20kB 6.1MB/s eta 0:00:01\r",
      "\u001b[K     |██████████████▎                 | 30kB 7.7MB/s eta 0:00:01\r",
      "\u001b[K     |███████████████████             | 40kB 8.4MB/s eta 0:00:01\r",
      "\u001b[K     |███████████████████████▉        | 51kB 7.2MB/s eta 0:00:01\r",
      "\u001b[K     |████████████████████████████▋   | 61kB 8.2MB/s eta 0:00:01\r",
      "\u001b[K     |████████████████████████████████| 71kB 5.1MB/s \n",
      "\u001b[?25hRequirement already satisfied: pybind11>=2.2 in /usr/local/lib/python3.6/dist-packages (from fasttext) (2.5.0)\n",
      "Requirement already satisfied: setuptools>=0.7.0 in /usr/local/lib/python3.6/dist-packages (from fasttext) (46.3.0)\n",
      "Requirement already satisfied: numpy in /usr/local/lib/python3.6/dist-packages (from fasttext) (1.18.4)\n",
      "Building wheels for collected packages: fasttext\n",
      "  Building wheel for fasttext (setup.py) ... \u001b[?25l\u001b[?25hdone\n",
      "  Created wheel for fasttext: filename=fasttext-0.9.2-cp36-cp36m-linux_x86_64.whl size=3021453 sha256=4dc2bc57116cea5670f7d00eec6362bc8938667ca34c6119804cc21e1bff0ce9\n",
      "  Stored in directory: /root/.cache/pip/wheels/98/ba/7f/b154944a1cf5a8cee91c154b75231136cc3a3321ab0e30f592\n",
      "Successfully built fasttext\n",
      "Installing collected packages: fasttext\n",
      "Successfully installed fasttext-0.9.2\n",
      "Collecting pythainlp\n",
      "\u001b[?25l  Downloading https://files.pythonhosted.org/packages/cb/14/b80930a2cc09ed6b5f8a22da9be6ece56939839ae66d921d9c7123034ba0/pythainlp-2.1.4-py3-none-any.whl (11.1MB)\n",
      "\u001b[K     |████████████████████████████████| 11.1MB 7.2MB/s \n",
      "\u001b[?25hCollecting tinydb>=3.0\n",
      "  Downloading https://files.pythonhosted.org/packages/b6/f6/b3e112addc8eb4a097f158124ce8b206767361a381f80c5f0c506d855e4a/tinydb-4.1.1-py3-none-any.whl\n",
      "Requirement already satisfied: dill>=0.3.0 in /usr/local/lib/python3.6/dist-packages (from pythainlp) (0.3.1.1)\n",
      "Requirement already satisfied: tqdm>=4.1 in /usr/local/lib/python3.6/dist-packages (from pythainlp) (4.41.1)\n",
      "Requirement already satisfied: requests>=2.22.0 in /usr/local/lib/python3.6/dist-packages (from pythainlp) (2.23.0)\n",
      "Collecting nltk>=3.3\n",
      "\u001b[?25l  Downloading https://files.pythonhosted.org/packages/92/75/ce35194d8e3022203cca0d2f896dbb88689f9b3fce8e9f9cff942913519d/nltk-3.5.zip (1.4MB)\n",
      "\u001b[K     |████████████████████████████████| 1.4MB 52.3MB/s \n",
      "\u001b[?25hRequirement already satisfied: chardet<4,>=3.0.2 in /usr/local/lib/python3.6/dist-packages (from requests>=2.22.0->pythainlp) (3.0.4)\n",
      "Requirement already satisfied: idna<3,>=2.5 in /usr/local/lib/python3.6/dist-packages (from requests>=2.22.0->pythainlp) (2.9)\n",
      "Requirement already satisfied: certifi>=2017.4.17 in /usr/local/lib/python3.6/dist-packages (from requests>=2.22.0->pythainlp) (2020.4.5.1)\n",
      "Requirement already satisfied: urllib3!=1.25.0,!=1.25.1,<1.26,>=1.21.1 in /usr/local/lib/python3.6/dist-packages (from requests>=2.22.0->pythainlp) (1.24.3)\n",
      "Requirement already satisfied: click in /usr/local/lib/python3.6/dist-packages (from nltk>=3.3->pythainlp) (7.1.2)\n",
      "Requirement already satisfied: joblib in /usr/local/lib/python3.6/dist-packages (from nltk>=3.3->pythainlp) (0.14.1)\n",
      "Requirement already satisfied: regex in /usr/local/lib/python3.6/dist-packages (from nltk>=3.3->pythainlp) (2019.12.20)\n",
      "Building wheels for collected packages: nltk\n",
      "  Building wheel for nltk (setup.py) ... \u001b[?25l\u001b[?25hdone\n",
      "  Created wheel for nltk: filename=nltk-3.5-cp36-none-any.whl size=1434677 sha256=a9f451451de28b12dd6b6943a6f8d642b3d2afadad72f55566664ca8c53a18a6\n",
      "  Stored in directory: /root/.cache/pip/wheels/ae/8c/3f/b1fe0ba04555b08b57ab52ab7f86023639a526d8bc8d384306\n",
      "Successfully built nltk\n",
      "Installing collected packages: tinydb, nltk, pythainlp\n",
      "  Found existing installation: nltk 3.2.5\n",
      "    Uninstalling nltk-3.2.5:\n",
      "      Successfully uninstalled nltk-3.2.5\n",
      "Successfully installed nltk-3.5 pythainlp-2.1.4 tinydb-4.1.1\n",
      "Collecting attacut\n",
      "\u001b[?25l  Downloading https://files.pythonhosted.org/packages/f6/56/4ab7204bde7468be65d047578192975035d9bc4e786990a407a28a8f75b8/attacut-1.0.6-py3-none-any.whl (1.3MB)\n",
      "\u001b[K     |████████████████████████████████| 1.3MB 9.2MB/s \n",
      "\u001b[?25hCollecting pyyaml>=5.1.2\n",
      "\u001b[?25l  Downloading https://files.pythonhosted.org/packages/64/c2/b80047c7ac2478f9501676c988a5411ed5572f35d1beff9cae07d321512c/PyYAML-5.3.1.tar.gz (269kB)\n",
      "\u001b[K     |████████████████████████████████| 276kB 53.2MB/s \n",
      "\u001b[?25hCollecting nptyping>=0.2.0\n",
      "  Downloading https://files.pythonhosted.org/packages/73/11/9e15ef1cd231182a3b568b65a612a173061d826de805481f44848fc27a32/nptyping-1.0.1-py3-none-any.whl\n",
      "Collecting fire>=0.1.3\n",
      "\u001b[?25l  Downloading https://files.pythonhosted.org/packages/34/a7/0e22e70778aca01a52b9c899d9c145c6396d7b613719cd63db97ffa13f2f/fire-0.3.1.tar.gz (81kB)\n",
      "\u001b[K     |████████████████████████████████| 81kB 12.2MB/s \n",
      "\u001b[?25hRequirement already satisfied: six>=1.12.0 in /usr/local/lib/python3.6/dist-packages (from attacut) (1.12.0)\n",
      "Requirement already satisfied: docopt>=0.6.2 in /usr/local/lib/python3.6/dist-packages (from attacut) (0.6.2)\n",
      "Requirement already satisfied: torch>=1.2.0 in /usr/local/lib/python3.6/dist-packages (from attacut) (1.5.0+cu101)\n",
      "Collecting ssg>=0.0.4\n",
      "\u001b[?25l  Downloading https://files.pythonhosted.org/packages/06/2b/9cf956a0088f44895d20ab0aa008d8f87cc1b1a210af14601aaf72dec729/ssg-0.0.6-py3-none-any.whl (473kB)\n",
      "\u001b[K     |████████████████████████████████| 481kB 54.1MB/s \n",
      "\u001b[?25hRequirement already satisfied: numpy>=1.17.0 in /usr/local/lib/python3.6/dist-packages (from attacut) (1.18.4)\n",
      "Collecting typish>=1.5.2\n",
      "  Downloading https://files.pythonhosted.org/packages/af/b5/b5ddbd624e12b40742a0bca7cd86db42f1b4f21f6503f74542ae046c3188/typish-1.6.0-py3-none-any.whl\n",
      "Requirement already satisfied: termcolor in /usr/local/lib/python3.6/dist-packages (from fire>=0.1.3->attacut) (1.1.0)\n",
      "Requirement already satisfied: future in /usr/local/lib/python3.6/dist-packages (from torch>=1.2.0->attacut) (0.16.0)\n",
      "Collecting python-crfsuite>=0.9.6\n",
      "\u001b[?25l  Downloading https://files.pythonhosted.org/packages/95/99/869dde6dbf3e0d07a013c8eebfb0a3d30776334e0097f8432b631a9a3a19/python_crfsuite-0.9.7-cp36-cp36m-manylinux1_x86_64.whl (743kB)\n",
      "\u001b[K     |████████████████████████████████| 747kB 48.0MB/s \n",
      "\u001b[?25hRequirement already satisfied: tqdm>=4.32.2 in /usr/local/lib/python3.6/dist-packages (from ssg>=0.0.4->attacut) (4.41.1)\n",
      "Building wheels for collected packages: pyyaml, fire\n",
      "  Building wheel for pyyaml (setup.py) ... \u001b[?25l\u001b[?25hdone\n",
      "  Created wheel for pyyaml: filename=PyYAML-5.3.1-cp36-cp36m-linux_x86_64.whl size=44621 sha256=6c570ecaf804a03969744ab59784ef457619181cfe445321408f63811e63bf1c\n",
      "  Stored in directory: /root/.cache/pip/wheels/a7/c1/ea/cf5bd31012e735dc1dfea3131a2d5eae7978b251083d6247bd\n",
      "  Building wheel for fire (setup.py) ... \u001b[?25l\u001b[?25hdone\n",
      "  Created wheel for fire: filename=fire-0.3.1-py2.py3-none-any.whl size=111005 sha256=61c3a3cd9cff2e7d3708c3c54a256baf42c45a0768a346092035e7b6a56c51f4\n",
      "  Stored in directory: /root/.cache/pip/wheels/c1/61/df/768b03527bf006b546dce284eb4249b185669e65afc5fbb2ac\n",
      "Successfully built pyyaml fire\n",
      "Installing collected packages: pyyaml, typish, nptyping, fire, python-crfsuite, ssg, attacut\n",
      "  Found existing installation: PyYAML 3.13\n",
      "    Uninstalling PyYAML-3.13:\n",
      "      Successfully uninstalled PyYAML-3.13\n",
      "Successfully installed attacut-1.0.6 fire-0.3.1 nptyping-1.0.1 python-crfsuite-0.9.7 pyyaml-5.3.1 ssg-0.0.6 typish-1.6.0\n"
     ]
    },
    {
     "data": {
      "application/vnd.colab-display-data+json": {
       "pip_warning": {
        "packages": [
         "yaml"
        ]
       }
      }
     },
     "metadata": {
      "tags": []
     },
     "output_type": "display_data"
    }
   ],
   "source": [
    "!pip install fasttext\n",
    "!pip install pythainlp\n",
    "!pip install attacut\n",
    "\n",
    "from attacut import tokenize\n",
    "from pythainlp import word_tokenize\n",
    "import fasttext"
   ]
  },
  {
   "cell_type": "code",
   "execution_count": 3,
   "metadata": {
    "colab": {
     "base_uri": "https://localhost:8080/",
     "height": 336
    },
    "colab_type": "code",
    "id": "fd6c9I5pJ4I3",
    "outputId": "2e63a56b-c2f3-4866-a237-36b6fd587ede"
   },
   "outputs": [
    {
     "data": {
      "text/html": [
       "<div>\n",
       "<style scoped>\n",
       "    .dataframe tbody tr th:only-of-type {\n",
       "        vertical-align: middle;\n",
       "    }\n",
       "\n",
       "    .dataframe tbody tr th {\n",
       "        vertical-align: top;\n",
       "    }\n",
       "\n",
       "    .dataframe thead th {\n",
       "        text-align: right;\n",
       "    }\n",
       "</style>\n",
       "<table border=\"1\" class=\"dataframe\">\n",
       "  <thead>\n",
       "    <tr style=\"text-align: right;\">\n",
       "      <th></th>\n",
       "      <th>text</th>\n",
       "      <th>intent</th>\n",
       "    </tr>\n",
       "  </thead>\n",
       "  <tbody>\n",
       "    <tr>\n",
       "      <th>0</th>\n",
       "      <td>เกาะติดเศรษฐกิจการเงินน้ำมันแพงเกี่ยวข้องกับค่า</td>\n",
       "      <td>น้ำมัน</td>\n",
       "    </tr>\n",
       "    <tr>\n",
       "      <th>1</th>\n",
       "      <td>มิยคนไทยซดน้ำมันแพงวเศษรับไม่ต่ำกว่า30บลิตร</td>\n",
       "      <td>น้ำมัน</td>\n",
       "    </tr>\n",
       "    <tr>\n",
       "      <th>2</th>\n",
       "      <td>ต่างชาติถล่มขายหุ้นเครือปตทมาร์เก็ตแคปพคหายแสน...</td>\n",
       "      <td>น้ำมัน</td>\n",
       "    </tr>\n",
       "    <tr>\n",
       "      <th>3</th>\n",
       "      <td>คาดโอเปคไม่ผลิตเพิ่มหวั่นน้ำมันราคาพุ่งยันปริม...</td>\n",
       "      <td>น้ำมัน</td>\n",
       "    </tr>\n",
       "    <tr>\n",
       "      <th>4</th>\n",
       "      <td>สศกคาดผลไม้ปี49ล้านตลาดพิษน้ำมันส่งผลกำลังซื้อ...</td>\n",
       "      <td>น้ำมัน</td>\n",
       "    </tr>\n",
       "  </tbody>\n",
       "</table>\n",
       "</div>"
      ],
      "text/plain": [
       "                                                text  intent\n",
       "0    เกาะติดเศรษฐกิจการเงินน้ำมันแพงเกี่ยวข้องกับค่า  น้ำมัน\n",
       "1        มิยคนไทยซดน้ำมันแพงวเศษรับไม่ต่ำกว่า30บลิตร  น้ำมัน\n",
       "2  ต่างชาติถล่มขายหุ้นเครือปตทมาร์เก็ตแคปพคหายแสน...  น้ำมัน\n",
       "3  คาดโอเปคไม่ผลิตเพิ่มหวั่นน้ำมันราคาพุ่งยันปริม...  น้ำมัน\n",
       "4  สศกคาดผลไม้ปี49ล้านตลาดพิษน้ำมันส่งผลกำลังซื้อ...  น้ำมัน"
      ]
     },
     "metadata": {
      "tags": []
     },
     "output_type": "display_data"
    },
    {
     "data": {
      "text/html": [
       "<div>\n",
       "<style scoped>\n",
       "    .dataframe tbody tr th:only-of-type {\n",
       "        vertical-align: middle;\n",
       "    }\n",
       "\n",
       "    .dataframe tbody tr th {\n",
       "        vertical-align: top;\n",
       "    }\n",
       "\n",
       "    .dataframe thead th {\n",
       "        text-align: right;\n",
       "    }\n",
       "</style>\n",
       "<table border=\"1\" class=\"dataframe\">\n",
       "  <thead>\n",
       "    <tr style=\"text-align: right;\">\n",
       "      <th></th>\n",
       "      <th>text</th>\n",
       "      <th>intent</th>\n",
       "    </tr>\n",
       "  </thead>\n",
       "  <tbody>\n",
       "    <tr>\n",
       "      <th>count</th>\n",
       "      <td>991587</td>\n",
       "      <td>991587</td>\n",
       "    </tr>\n",
       "    <tr>\n",
       "      <th>unique</th>\n",
       "      <td>987350</td>\n",
       "      <td>9</td>\n",
       "    </tr>\n",
       "    <tr>\n",
       "      <th>top</th>\n",
       "      <td>7elevenพวกเรามั่นใจเพราะเหตุผลเพียงไม่กี่ประการ</td>\n",
       "      <td>ธนาคาร</td>\n",
       "    </tr>\n",
       "    <tr>\n",
       "      <th>freq</th>\n",
       "      <td>6</td>\n",
       "      <td>267349</td>\n",
       "    </tr>\n",
       "  </tbody>\n",
       "</table>\n",
       "</div>"
      ],
      "text/plain": [
       "                                                   text  intent\n",
       "count                                            991587  991587\n",
       "unique                                           987350       9\n",
       "top     7elevenพวกเรามั่นใจเพราะเหตุผลเพียงไม่กี่ประการ  ธนาคาร\n",
       "freq                                                  6  267349"
      ]
     },
     "execution_count": 3,
     "metadata": {
      "tags": []
     },
     "output_type": "execute_result"
    }
   ],
   "source": [
    "data = pd.read_csv('/content/drive/My Drive/Colab Notebooks/NLP/full_datasets.csv')\n",
    "# Show the top 5 rows\n",
    "display(data.head())\n",
    "# Summarize the data\n",
    "data.describe()"
   ]
  },
  {
   "cell_type": "code",
   "execution_count": 4,
   "metadata": {
    "colab": {
     "base_uri": "https://localhost:8080/",
     "height": 50
    },
    "colab_type": "code",
    "id": "vseaTMq2yBOy",
    "outputId": "1aab47c8-a97c-4617-f111-d6ff0677cb19"
   },
   "outputs": [
    {
     "data": {
      "text/plain": [
       "array(['น้ำมัน', 'พลังงานไฟฟ้า', 'การบิน', 'อสังหา', 'ธุรกิจค้าปลีก',\n",
       "       'ธนาคาร', 'ภัยพิบัติ', 'สงคราม', 'โรคระบาด'], dtype=object)"
      ]
     },
     "execution_count": 4,
     "metadata": {
      "tags": []
     },
     "output_type": "execute_result"
    }
   ],
   "source": [
    "data.intent.unique()"
   ]
  },
  {
   "cell_type": "code",
   "execution_count": 5,
   "metadata": {
    "colab": {
     "base_uri": "https://localhost:8080/",
     "height": 191
    },
    "colab_type": "code",
    "id": "OeBY39ZZwyHo",
    "outputId": "91034951-8592-467b-eb7a-adf6ca76176e"
   },
   "outputs": [
    {
     "data": {
      "text/html": [
       "<div>\n",
       "<style scoped>\n",
       "    .dataframe tbody tr th:only-of-type {\n",
       "        vertical-align: middle;\n",
       "    }\n",
       "\n",
       "    .dataframe tbody tr th {\n",
       "        vertical-align: top;\n",
       "    }\n",
       "\n",
       "    .dataframe thead th {\n",
       "        text-align: right;\n",
       "    }\n",
       "</style>\n",
       "<table border=\"1\" class=\"dataframe\">\n",
       "  <thead>\n",
       "    <tr style=\"text-align: right;\">\n",
       "      <th></th>\n",
       "      <th>text</th>\n",
       "      <th>intent</th>\n",
       "    </tr>\n",
       "  </thead>\n",
       "  <tbody>\n",
       "    <tr>\n",
       "      <th>0</th>\n",
       "      <td>เกาะติดเศรษฐกิจการเงินน้ำมันแพงเกี่ยวข้องกับค่า</td>\n",
       "      <td>0</td>\n",
       "    </tr>\n",
       "    <tr>\n",
       "      <th>1</th>\n",
       "      <td>มิยคนไทยซดน้ำมันแพงวเศษรับไม่ต่ำกว่า30บลิตร</td>\n",
       "      <td>0</td>\n",
       "    </tr>\n",
       "    <tr>\n",
       "      <th>2</th>\n",
       "      <td>ต่างชาติถล่มขายหุ้นเครือปตทมาร์เก็ตแคปพคหายแสน...</td>\n",
       "      <td>0</td>\n",
       "    </tr>\n",
       "    <tr>\n",
       "      <th>3</th>\n",
       "      <td>คาดโอเปคไม่ผลิตเพิ่มหวั่นน้ำมันราคาพุ่งยันปริม...</td>\n",
       "      <td>0</td>\n",
       "    </tr>\n",
       "    <tr>\n",
       "      <th>4</th>\n",
       "      <td>สศกคาดผลไม้ปี49ล้านตลาดพิษน้ำมันส่งผลกำลังซื้อ...</td>\n",
       "      <td>0</td>\n",
       "    </tr>\n",
       "  </tbody>\n",
       "</table>\n",
       "</div>"
      ],
      "text/plain": [
       "                                                text  intent\n",
       "0    เกาะติดเศรษฐกิจการเงินน้ำมันแพงเกี่ยวข้องกับค่า       0\n",
       "1        มิยคนไทยซดน้ำมันแพงวเศษรับไม่ต่ำกว่า30บลิตร       0\n",
       "2  ต่างชาติถล่มขายหุ้นเครือปตทมาร์เก็ตแคปพคหายแสน...       0\n",
       "3  คาดโอเปคไม่ผลิตเพิ่มหวั่นน้ำมันราคาพุ่งยันปริม...       0\n",
       "4  สศกคาดผลไม้ปี49ล้านตลาดพิษน้ำมันส่งผลกำลังซื้อ...       0"
      ]
     },
     "execution_count": 5,
     "metadata": {
      "tags": []
     },
     "output_type": "execute_result"
    }
   ],
   "source": [
    "intent_mapping = {'น้ำมัน' : 0, 'พลังงานไฟฟ้า' : 1, 'การบิน' : 2, 'อสังหา' : 3, 'ธุรกิจค้าปลีก' : 4,\n",
    "                  'ธนาคาร' : 5, 'ภัยพิบัติ' : 6, 'สงคราม' : 7, 'โรคระบาด' : 8}\n",
    "data.intent = data.intent.map(intent_mapping)\n",
    "data.head()"
   ]
  },
  {
   "cell_type": "code",
   "execution_count": 6,
   "metadata": {
    "colab": {
     "base_uri": "https://localhost:8080/",
     "height": 82
    },
    "colab_type": "code",
    "id": "CH1TTRpPKof4",
    "outputId": "d69d753b-1d17-41c3-d1dc-01da4433eee4"
   },
   "outputs": [
    {
     "name": "stdout",
     "output_type": "stream",
     "text": [
      "X_train shape: (793269,)\n",
      "X_test shape: (198318,)\n",
      "y_train shape: (793269, 9)\n",
      "y_test shape: (198318, 9)\n"
     ]
    }
   ],
   "source": [
    "train_data, test_data = train_test_split( data, test_size=0.2,random_state=42)\n",
    "\n",
    "X_train = train_data.text.values\n",
    "X_test = test_data.text.values\n",
    "\n",
    "y_train = train_data.intent.values\n",
    "y_test = test_data.intent.values\n",
    "\n",
    "num_classes = 9\n",
    "y_train = to_categorical(y_train, num_classes)\n",
    "y_test = to_categorical(y_test, num_classes)\n",
    "\n",
    "print('X_train shape:', X_train.shape)\n",
    "print('X_test shape:', X_test.shape)\n",
    "print('y_train shape:', y_train.shape)\n",
    "print('y_test shape:', y_test.shape)"
   ]
  },
  {
   "cell_type": "code",
   "execution_count": 7,
   "metadata": {
    "colab": {
     "base_uri": "https://localhost:8080/",
     "height": 456
    },
    "colab_type": "code",
    "id": "lz1vrlzq7b2K",
    "outputId": "c0f1a68f-2dfc-452f-8b03-e918b61eb099"
   },
   "outputs": [
    {
     "data": {
      "text/plain": [
       "[['เศรษฐศาสตร์',\n",
       "  'เพื่อ',\n",
       "  'ชีวิต',\n",
       "  'ทาง',\n",
       "  'ออก',\n",
       "  'พลังงาน',\n",
       "  'ไทย',\n",
       "  'ต้อง',\n",
       "  'เป็น',\n",
       "  'ไท'],\n",
       " ['บังคับ', 'คดี', 'จับมือ', 'แบงก์', 'ขาย', 'ทอดตลาด'],\n",
       " ['คูเนีย',\n",
       "  'แปลง',\n",
       "  'ร่าง',\n",
       "  'พร้อม',\n",
       "  'รุก',\n",
       "  'หนัก',\n",
       "  'ตลาด',\n",
       "  'ไทย',\n",
       "  'ซุ่ม',\n",
       "  'คุย',\n",
       "  'ซี',\n",
       "  'ไอ',\n",
       "  'เอ็มบี',\n",
       "  'เปิด'],\n",
       " ['วัดปรอท2', 'ปีสุวรรณภูมิเสรีรัตน์', 'สาง', 'ปัญหา', 'สาน', 'ฝัน'],\n",
       " ['รอบ', 'โลกวัน', 'นี้', 'โบอิ้ง', 'ยัน', '737', 'แม็กซ์', 'ปลอด', 'ภัย']]"
      ]
     },
     "execution_count": 7,
     "metadata": {
      "tags": []
     },
     "output_type": "execute_result"
    }
   ],
   "source": [
    "def tokenizers(sentense):\n",
    "    words = []\n",
    "    for w in sentense :\n",
    "        word_token = word_tokenize(w , engine = 'attacut')\n",
    "        words.append(word_token)\n",
    "    \n",
    "    return words\n",
    "\n",
    "token = tokenizers(X_train)\n",
    "token[:5]"
   ]
  },
  {
   "cell_type": "code",
   "execution_count": 8,
   "metadata": {
    "colab": {
     "base_uri": "https://localhost:8080/",
     "height": 66
    },
    "colab_type": "code",
    "id": "GYjk5sStDuM6",
    "outputId": "daa1ef49-26be-47a1-f4b7-da467890f4a0"
   },
   "outputs": [
    {
     "name": "stdout",
     "output_type": "stream",
     "text": [
      "430394\n",
      "output sample (dictionary): {'for_keras_zero_padding': 0, 'ข่าว': 1, 'เงิน': 2, 'การ': 3, 'ปี': 4, 'โลก': 5, 'ไม่': 6, 'ไทย': 7, 'ทุน': 8, 'ที่': 9}\n",
      "output sample (reverse dictionary): {0: 'for_keras_zero_padding', 1: 'ข่าว', 2: 'เงิน', 3: 'การ', 4: 'ปี', 5: 'โลก', 6: 'ไม่', 7: 'ไทย', 8: 'ทุน', 9: 'ที่'}\n"
     ]
    }
   ],
   "source": [
    "word = []\n",
    "for sen in token:\n",
    "  word += sen\n",
    "  \n",
    "word_count = list()\n",
    "#use set and len to get the number of unique words\n",
    "word_count.extend(collections.Counter(word).most_common(len(set(word))))\n",
    "#include a token for unknown word\n",
    "word_count.append((\"UNK\",0))\n",
    "dictionary = dict()\n",
    "dictionary[\"for_keras_zero_padding\"] = 0\n",
    "for word in word_count:\n",
    "  dictionary[word[0]] = len(dictionary)\n",
    "reverse_dictionary = dict(zip(dictionary.values(), dictionary.keys()))\n",
    "\n",
    "print(len(dictionary))\n",
    "print(\"output sample (dictionary):\",{k: dictionary[k] for k in list(dictionary)[:10]})\n",
    "print(\"output sample (reverse dictionary):\",{k: reverse_dictionary[k] for k in list(reverse_dictionary)[:10]})"
   ]
  },
  {
   "cell_type": "code",
   "execution_count": 0,
   "metadata": {
    "colab": {},
    "colab_type": "code",
    "id": "jpN26cNL04If"
   },
   "outputs": [],
   "source": [
    "pre_embed = []\n",
    "for sen in token:\n",
    "  pre_embed += sen\n",
    "  pre_embed.append('\\n')\n",
    "\n",
    "with open('data.txt', mode='w', encoding='utf-8') as file:\n",
    "    file.write(' '.join(pre_embed))\n",
    "\n",
    "word2vec = fasttext.train_unsupervised('data.txt', epoch=10, ws=3, dim=100)"
   ]
  },
  {
   "cell_type": "code",
   "execution_count": 0,
   "metadata": {
    "colab": {},
    "colab_type": "code",
    "id": "PAsKKCVvHlNH"
   },
   "outputs": [],
   "source": [
    "test_token = tokenizers(X_test)"
   ]
  },
  {
   "cell_type": "code",
   "execution_count": 0,
   "metadata": {
    "colab": {},
    "colab_type": "code",
    "id": "o70lH8P4K2_N"
   },
   "outputs": [],
   "source": []
  },
  {
   "cell_type": "code",
   "execution_count": 0,
   "metadata": {
    "colab": {},
    "colab_type": "code",
    "id": "AY7vGH6ixq9o"
   },
   "outputs": [],
   "source": [
    "def word_vec(list_data):\n",
    "    keys = dict.keys(dictionary)\n",
    "    for data in list_data:\n",
    "        for word in range(len(data)):\n",
    "            if data[word] in keys:\n",
    "                data[word] = dictionary[data[word]]\n",
    "            else:\n",
    "                data[word] = dictionary['UNK']\n",
    "    return list_data\n",
    "\n",
    "X_train = word_vec(token)\n",
    "X_test = word_vec(test_token)\n",
    "\n",
    "maxlen = 21\n",
    "X_train = pad_sequences(X_train, padding='post', maxlen=maxlen)\n",
    "X_test = pad_sequences(X_test, padding='post', maxlen=maxlen)"
   ]
  },
  {
   "cell_type": "code",
   "execution_count": 12,
   "metadata": {
    "colab": {
     "base_uri": "https://localhost:8080/",
     "height": 82
    },
    "colab_type": "code",
    "id": "-ngslsqqbJ7Y",
    "outputId": "468a0b52-8f3d-4a6f-d72a-71fdaab354d1"
   },
   "outputs": [
    {
     "name": "stdout",
     "output_type": "stream",
     "text": [
      "x_train shape: (793269, 21)\n",
      "x_test shape: (198318, 21)\n",
      "y_train shape: (793269, 9)\n",
      "y_test shape: (198318, 9)\n"
     ]
    }
   ],
   "source": [
    "print('x_train shape:', X_train.shape)\n",
    "print('x_test shape:', X_test.shape)\n",
    "print('y_train shape:', y_train.shape)\n",
    "print('y_test shape:', y_test.shape)"
   ]
  },
  {
   "cell_type": "code",
   "execution_count": 13,
   "metadata": {
    "colab": {
     "base_uri": "https://localhost:8080/",
     "height": 33
    },
    "colab_type": "code",
    "id": "YM0KsyuYLkfr",
    "outputId": "6a8da65a-b5d6-470c-f434-d8b1e97134b9"
   },
   "outputs": [
    {
     "name": "stdout",
     "output_type": "stream",
     "text": [
      "(430394, 100)\n"
     ]
    }
   ],
   "source": [
    "word_num = len(list(reverse_dictionary.values()))\n",
    "embedding_matrix = []\n",
    "\n",
    "for i in range(word_num):\n",
    "  if i != (word_num-1):\n",
    "    embedding_matrix.append(word2vec.get_sentence_vector(reverse_dictionary[i+1]))\n",
    "  else:\n",
    "    embedding_matrix.append(np.zeros(100,))\n",
    "\n",
    "embedding_matrix = np.array(embedding_matrix)\n",
    "print(embedding_matrix.shape)"
   ]
  },
  {
   "cell_type": "code",
   "execution_count": 14,
   "metadata": {
    "colab": {
     "base_uri": "https://localhost:8080/",
     "height": 1000
    },
    "colab_type": "code",
    "id": "iJTju6hRbKGd",
    "outputId": "fe8780f2-4cbf-41b2-87c7-5a66399427b9"
   },
   "outputs": [
    {
     "name": "stdout",
     "output_type": "stream",
     "text": [
      "Model: \"sequential\"\n",
      "_________________________________________________________________\n",
      "Layer (type)                 Output Shape              Param #   \n",
      "=================================================================\n",
      "embedding (Embedding)        (None, 21, 100)           43039400  \n",
      "_________________________________________________________________\n",
      "bidirectional (Bidirectional (None, 21, 128)           84480     \n",
      "_________________________________________________________________\n",
      "bidirectional_1 (Bidirection (None, 21, 128)           98816     \n",
      "_________________________________________________________________\n",
      "flatten (Flatten)            (None, 2688)              0         \n",
      "_________________________________________________________________\n",
      "dense (Dense)                (None, 256)               688384    \n",
      "_________________________________________________________________\n",
      "dropout (Dropout)            (None, 256)               0         \n",
      "_________________________________________________________________\n",
      "dense_1 (Dense)              (None, 9)                 2313      \n",
      "=================================================================\n",
      "Total params: 43,913,393\n",
      "Trainable params: 43,913,393\n",
      "Non-trainable params: 0\n",
      "_________________________________________________________________\n"
     ]
    },
    {
     "data": {
      "image/png": "[encoded data removed]",
      "text/plain": [
       "<IPython.core.display.Image object>"
      ]
     },
     "execution_count": 14,
     "metadata": {
      "tags": []
     },
     "output_type": "execute_result"
    }
   ],
   "source": [
    "model = Sequential()\n",
    "model.add(Embedding(len(dictionary), 100, weights = [embedding_matrix], input_length = maxlen ))\n",
    "model.add(Bidirectional(LSTM(64, return_sequences=True)))\n",
    "model.add(Bidirectional(LSTM(64, return_sequences=True)))\n",
    "model.add(Flatten())\n",
    "model.add(Dense(256, activation='relu'))\n",
    "model.add(Dropout(0.33))\n",
    "model.add(Dense(9, activation='softmax'))\n",
    "\n",
    "model.summary()\n",
    "plot_model(model)"
   ]
  },
  {
   "cell_type": "code",
   "execution_count": 15,
   "metadata": {
    "colab": {
     "base_uri": "https://localhost:8080/",
     "height": 196
    },
    "colab_type": "code",
    "id": "-hyxuBnWMmyl",
    "outputId": "5a0d4865-039e-492a-e72a-2d79ee4dec2a"
   },
   "outputs": [
    {
     "name": "stdout",
     "output_type": "stream",
     "text": [
      "Epoch 1/5\n",
      "6198/6198 [==============================] - 2329s 376ms/step - loss: 0.7510 - acc: 0.7591 - val_loss: 0.6342 - val_acc: 0.7964\n",
      "Epoch 2/5\n",
      "6198/6198 [==============================] - 2316s 374ms/step - loss: 0.4040 - acc: 0.8760 - val_loss: 0.6588 - val_acc: 0.7999\n",
      "Epoch 3/5\n",
      "6198/6198 [==============================] - 2326s 375ms/step - loss: 0.2625 - acc: 0.9177 - val_loss: 0.7082 - val_acc: 0.7976\n",
      "Epoch 4/5\n",
      "6198/6198 [==============================] - 2317s 374ms/step - loss: 0.2231 - acc: 0.9276 - val_loss: 0.8414 - val_acc: 0.7958\n",
      "Epoch 5/5\n",
      "6198/6198 [==============================] - 2312s 373ms/step - loss: 0.2003 - acc: 0.9338 - val_loss: 0.8606 - val_acc: 0.7917\n"
     ]
    },
    {
     "data": {
      "text/plain": [
       "<tensorflow.python.keras.callbacks.History at 0x7f2f21466080>"
      ]
     },
     "execution_count": 15,
     "metadata": {
      "tags": []
     },
     "output_type": "execute_result"
    }
   ],
   "source": [
    "model.compile(optimizer='adam',\n",
    "              loss='categorical_crossentropy',\n",
    "              metrics=['acc'])\n",
    "\n",
    "model.fit(X_train, y_train, epochs=5, verbose=1, validation_data = (X_test, y_test), batch_size=128)"
   ]
  },
  {
   "cell_type": "code",
   "execution_count": 16,
   "metadata": {
    "colab": {
     "base_uri": "https://localhost:8080/",
     "height": 66
    },
    "colab_type": "code",
    "id": "5uBBMA0-PAU4",
    "outputId": "eb359bf4-da07-4de2-b02a-ccf31c23efe7"
   },
   "outputs": [
    {
     "name": "stdout",
     "output_type": "stream",
     "text": [
      "Evaluate on test data\n",
      "1550/1550 [==============================] - 8s 5ms/step - loss: 0.8606 - acc: 0.7917\n",
      "test loss, test acc: [0.8606162071228027, 0.7917032241821289]\n"
     ]
    }
   ],
   "source": [
    "print(\"Evaluate on test data\")\n",
    "results = model.evaluate(X_test, y_test, batch_size=128)\n",
    "print(\"test loss, test acc:\", results)"
   ]
  },
  {
   "cell_type": "code",
   "execution_count": 17,
   "metadata": {
    "colab": {
     "base_uri": "https://localhost:8080/",
     "height": 33
    },
    "colab_type": "code",
    "id": "LtVTcajb8uG2",
    "outputId": "a51e6854-c73a-4818-cfa3-ffff450c0059"
   },
   "outputs": [
    {
     "data": {
      "text/plain": [
       "array([5, 5, 5, ..., 3, 6, 7])"
      ]
     },
     "execution_count": 17,
     "metadata": {
      "tags": []
     },
     "output_type": "execute_result"
    }
   ],
   "source": [
    "preds =  np.argmax(model.predict(X_test), axis=-1) \n",
    "preds"
   ]
  },
  {
   "cell_type": "code",
   "execution_count": 21,
   "metadata": {
    "colab": {
     "base_uri": "https://localhost:8080/",
     "height": 277
    },
    "colab_type": "code",
    "id": "dFm2AVb7-bOM",
    "outputId": "198a7b15-9174-4189-fd30-7021c1419907"
   },
   "outputs": [
    {
     "name": "stdout",
     "output_type": "stream",
     "text": [
      "               precision    recall  f1-score   support\n",
      "\n",
      "       น้ำมัน       0.81      0.71      0.76     23148\n",
      " พลังงานไฟฟ้า       0.69      0.68      0.68     12164\n",
      "       การบิน       0.71      0.77      0.74     17315\n",
      "       อสังหา       0.82      0.75      0.79     34981\n",
      "ธุรกิจค้าปลีก       0.73      0.74      0.74     19764\n",
      "       ธนาคาร       0.81      0.85      0.83     53456\n",
      "    ภัยพิบัติ       0.78      0.83      0.81     11812\n",
      "       สงคราม       0.85      0.88      0.87     20483\n",
      "     โรคระบาด       0.89      0.88      0.88      5195\n",
      "\n",
      "     accuracy                           0.79    198318\n",
      "    macro avg       0.79      0.79      0.79    198318\n",
      " weighted avg       0.79      0.79      0.79    198318\n",
      "\n"
     ]
    }
   ],
   "source": [
    "classes = ['น้ำมัน', 'พลังงานไฟฟ้า', 'การบิน', 'อสังหา', 'ธุรกิจค้าปลีก',\n",
    "           'ธนาคาร', 'ภัยพิบัติ', 'สงคราม', 'โรคระบาด']\n",
    "\n",
    "report = classification_report(test_data.intent.values, preds, target_names=classes)\n",
    "print(report)"
   ]
  },
  {
   "cell_type": "code",
   "execution_count": 0,
   "metadata": {
    "colab": {},
    "colab_type": "code",
    "id": "L0TfkQjVZ6gq"
   },
   "outputs": [],
   "source": []
  }
 ],
 "metadata": {
  "accelerator": "GPU",
  "colab": {
   "name": "Untitled0.ipynb",
   "provenance": []
  },
  "kernelspec": {
   "display_name": "Python 3",
   "language": "python",
   "name": "python3"
  },
  "language_info": {
   "codemirror_mode": {
    "name": "ipython",
    "version": 3
   },
   "file_extension": ".py",
   "mimetype": "text/x-python",
   "name": "python",
   "nbconvert_exporter": "python",
   "pygments_lexer": "ipython3",
   "version": "3.7.3"
  }
 },
 "nbformat": 4,
 "nbformat_minor": 1
}
