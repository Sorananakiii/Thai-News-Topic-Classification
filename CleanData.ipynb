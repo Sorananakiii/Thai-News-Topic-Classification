{
 "cells": [
  {
   "cell_type": "code",
   "execution_count": 0,
   "metadata": {
    "colab": {
     "base_uri": "https://localhost:8080/",
     "height": 124
    },
    "colab_type": "code",
    "executionInfo": {
     "elapsed": 239146,
     "status": "ok",
     "timestamp": 1588901053006,
     "user": {
      "displayName": "Natawat Sirichaitayakul",
      "photoUrl": "",
      "userId": "10237147463727492124"
     },
     "user_tz": -420
    },
    "id": "0DDdiZ1I5X5l",
    "outputId": "32a85f09-2a2c-4c0d-d844-84dac57a98b6"
   },
   "outputs": [
    {
     "name": "stdout",
     "output_type": "stream",
     "text": [
      "Go to this URL in a browser: https://accounts.google.com/o/oauth2/auth?client_id=947318989803-6bn6qk8qdgf4n4g3pfee6491hc0brc4i.apps.googleusercontent.com&redirect_uri=urn%3aietf%3awg%3aoauth%3a2.0%3aoob&response_type=code&scope=email%20https%3a%2f%2fwww.googleapis.com%2fauth%2fdocs.test%20https%3a%2f%2fwww.googleapis.com%2fauth%2fdrive%20https%3a%2f%2fwww.googleapis.com%2fauth%2fdrive.photos.readonly%20https%3a%2f%2fwww.googleapis.com%2fauth%2fpeopleapi.readonly\n",
      "\n",
      "Enter your authorization code:\n",
      "··········\n",
      "Mounted at /content/drive\n"
     ]
    }
   ],
   "source": [
    "from google.colab import drive\n",
    "drive.mount('/content/drive')"
   ]
  },
  {
   "cell_type": "code",
   "execution_count": 0,
   "metadata": {
    "colab": {
     "base_uri": "https://localhost:8080/",
     "height": 1000
    },
    "colab_type": "code",
    "executionInfo": {
     "elapsed": 44075,
     "status": "ok",
     "timestamp": 1588901095667,
     "user": {
      "displayName": "Natawat Sirichaitayakul",
      "photoUrl": "",
      "userId": "10237147463727492124"
     },
     "user_tz": -420
    },
    "id": "aIZngBTr5ZyQ",
    "outputId": "30e63244-28d5-4e57-be0f-e8602cbda7d3"
   },
   "outputs": [
    {
     "name": "stdout",
     "output_type": "stream",
     "text": [
      "Collecting pythainlp\n",
      "\u001b[?25l  Downloading https://files.pythonhosted.org/packages/cb/14/b80930a2cc09ed6b5f8a22da9be6ece56939839ae66d921d9c7123034ba0/pythainlp-2.1.4-py3-none-any.whl (11.1MB)\n",
      "\u001b[K     |████████████████████████████████| 11.1MB 269kB/s \n",
      "\u001b[?25hRequirement already satisfied: requests>=2.22.0 in /usr/local/lib/python3.6/dist-packages (from pythainlp) (2.23.0)\n",
      "Collecting tinydb>=3.0\n",
      "  Downloading https://files.pythonhosted.org/packages/7b/3d/062dba825c8fb0f30c65e94aca858d43ff5fa4d949731878474b7f1872b8/tinydb-4.1.0-py3-none-any.whl\n",
      "Collecting nltk>=3.3\n",
      "\u001b[?25l  Downloading https://files.pythonhosted.org/packages/92/75/ce35194d8e3022203cca0d2f896dbb88689f9b3fce8e9f9cff942913519d/nltk-3.5.zip (1.4MB)\n",
      "\u001b[K     |████████████████████████████████| 1.4MB 41.7MB/s \n",
      "\u001b[?25hRequirement already satisfied: dill>=0.3.0 in /usr/local/lib/python3.6/dist-packages (from pythainlp) (0.3.1.1)\n",
      "Requirement already satisfied: tqdm>=4.1 in /usr/local/lib/python3.6/dist-packages (from pythainlp) (4.38.0)\n",
      "Requirement already satisfied: urllib3!=1.25.0,!=1.25.1,<1.26,>=1.21.1 in /usr/local/lib/python3.6/dist-packages (from requests>=2.22.0->pythainlp) (1.24.3)\n",
      "Requirement already satisfied: certifi>=2017.4.17 in /usr/local/lib/python3.6/dist-packages (from requests>=2.22.0->pythainlp) (2020.4.5.1)\n",
      "Requirement already satisfied: chardet<4,>=3.0.2 in /usr/local/lib/python3.6/dist-packages (from requests>=2.22.0->pythainlp) (3.0.4)\n",
      "Requirement already satisfied: idna<3,>=2.5 in /usr/local/lib/python3.6/dist-packages (from requests>=2.22.0->pythainlp) (2.9)\n",
      "Collecting pytest-mypy<0.5.0,>=0.4.1\n",
      "  Downloading https://files.pythonhosted.org/packages/9c/57/8f7cf30df4774fa77a9bb61c9a41e793bcd1813753dd815ae064fe9342cf/pytest_mypy-0.4.2-py3-none-any.whl\n",
      "Requirement already satisfied: click in /usr/local/lib/python3.6/dist-packages (from nltk>=3.3->pythainlp) (7.1.2)\n",
      "Requirement already satisfied: joblib in /usr/local/lib/python3.6/dist-packages (from nltk>=3.3->pythainlp) (0.14.1)\n",
      "Requirement already satisfied: regex in /usr/local/lib/python3.6/dist-packages (from nltk>=3.3->pythainlp) (2019.12.20)\n",
      "Collecting mypy>=0.500; python_version >= \"3.5\" and python_version < \"3.8\"\n",
      "\u001b[?25l  Downloading https://files.pythonhosted.org/packages/b0/f4/5a08a46e808d234e65e9f036451d124dd9053a6024c77479eb8d0d7a82e0/mypy-0.770-cp36-cp36m-manylinux1_x86_64.whl (21.7MB)\n",
      "\u001b[K     |████████████████████████████████| 21.7MB 1.4MB/s \n",
      "\u001b[?25hRequirement already satisfied: pytest>=2.8; python_version >= \"3.5\" in /usr/local/lib/python3.6/dist-packages (from pytest-mypy<0.5.0,>=0.4.1->tinydb>=3.0->pythainlp) (3.6.4)\n",
      "Collecting typing-extensions>=3.7.4\n",
      "  Downloading https://files.pythonhosted.org/packages/0c/0e/3f026d0645d699e7320b59952146d56ad7c374e9cd72cd16e7c74e657a0f/typing_extensions-3.7.4.2-py3-none-any.whl\n",
      "Collecting mypy-extensions<0.5.0,>=0.4.3\n",
      "  Downloading https://files.pythonhosted.org/packages/5c/eb/975c7c080f3223a5cdaff09612f3a5221e4ba534f7039db34c35d95fa6a5/mypy_extensions-0.4.3-py2.py3-none-any.whl\n",
      "Collecting typed-ast<1.5.0,>=1.4.0\n",
      "\u001b[?25l  Downloading https://files.pythonhosted.org/packages/90/ed/5459080d95eb87a02fe860d447197be63b6e2b5e9ff73c2b0a85622994f4/typed_ast-1.4.1-cp36-cp36m-manylinux1_x86_64.whl (737kB)\n",
      "\u001b[K     |████████████████████████████████| 747kB 50.4MB/s \n",
      "\u001b[?25hRequirement already satisfied: attrs>=17.4.0 in /usr/local/lib/python3.6/dist-packages (from pytest>=2.8; python_version >= \"3.5\"->pytest-mypy<0.5.0,>=0.4.1->tinydb>=3.0->pythainlp) (19.3.0)\n",
      "Requirement already satisfied: py>=1.5.0 in /usr/local/lib/python3.6/dist-packages (from pytest>=2.8; python_version >= \"3.5\"->pytest-mypy<0.5.0,>=0.4.1->tinydb>=3.0->pythainlp) (1.8.1)\n",
      "Requirement already satisfied: six>=1.10.0 in /usr/local/lib/python3.6/dist-packages (from pytest>=2.8; python_version >= \"3.5\"->pytest-mypy<0.5.0,>=0.4.1->tinydb>=3.0->pythainlp) (1.12.0)\n",
      "Requirement already satisfied: atomicwrites>=1.0 in /usr/local/lib/python3.6/dist-packages (from pytest>=2.8; python_version >= \"3.5\"->pytest-mypy<0.5.0,>=0.4.1->tinydb>=3.0->pythainlp) (1.4.0)\n",
      "Requirement already satisfied: pluggy<0.8,>=0.5 in /usr/local/lib/python3.6/dist-packages (from pytest>=2.8; python_version >= \"3.5\"->pytest-mypy<0.5.0,>=0.4.1->tinydb>=3.0->pythainlp) (0.7.1)\n",
      "Requirement already satisfied: more-itertools>=4.0.0 in /usr/local/lib/python3.6/dist-packages (from pytest>=2.8; python_version >= \"3.5\"->pytest-mypy<0.5.0,>=0.4.1->tinydb>=3.0->pythainlp) (8.2.0)\n",
      "Requirement already satisfied: setuptools in /usr/local/lib/python3.6/dist-packages (from pytest>=2.8; python_version >= \"3.5\"->pytest-mypy<0.5.0,>=0.4.1->tinydb>=3.0->pythainlp) (46.1.3)\n",
      "Building wheels for collected packages: nltk\n",
      "  Building wheel for nltk (setup.py) ... \u001b[?25l\u001b[?25hdone\n",
      "  Created wheel for nltk: filename=nltk-3.5-cp36-none-any.whl size=1434673 sha256=d13703a9b4777594811d5925d0757d07882a255aa51f410fb9b473aa1cbec3d0\n",
      "  Stored in directory: /root/.cache/pip/wheels/ae/8c/3f/b1fe0ba04555b08b57ab52ab7f86023639a526d8bc8d384306\n",
      "Successfully built nltk\n",
      "\u001b[31mERROR: chainer 6.5.0 has requirement typing-extensions<=3.6.6, but you'll have typing-extensions 3.7.4.2 which is incompatible.\u001b[0m\n",
      "Installing collected packages: typing-extensions, mypy-extensions, typed-ast, mypy, pytest-mypy, tinydb, nltk, pythainlp\n",
      "  Found existing installation: typing-extensions 3.6.6\n",
      "    Uninstalling typing-extensions-3.6.6:\n",
      "      Successfully uninstalled typing-extensions-3.6.6\n",
      "  Found existing installation: nltk 3.2.5\n",
      "    Uninstalling nltk-3.2.5:\n",
      "      Successfully uninstalled nltk-3.2.5\n",
      "Successfully installed mypy-0.770 mypy-extensions-0.4.3 nltk-3.5 pytest-mypy-0.4.2 pythainlp-2.1.4 tinydb-4.1.0 typed-ast-1.4.1 typing-extensions-3.7.4.2\n",
      "Collecting attacut\n",
      "\u001b[?25l  Downloading https://files.pythonhosted.org/packages/f6/56/4ab7204bde7468be65d047578192975035d9bc4e786990a407a28a8f75b8/attacut-1.0.6-py3-none-any.whl (1.3MB)\n",
      "\u001b[K     |████████████████████████████████| 1.3MB 2.7MB/s \n",
      "\u001b[?25hCollecting pyyaml>=5.1.2\n",
      "\u001b[?25l  Downloading https://files.pythonhosted.org/packages/64/c2/b80047c7ac2478f9501676c988a5411ed5572f35d1beff9cae07d321512c/PyYAML-5.3.1.tar.gz (269kB)\n",
      "\u001b[K     |████████████████████████████████| 276kB 16.2MB/s \n",
      "\u001b[?25hRequirement already satisfied: six>=1.12.0 in /usr/local/lib/python3.6/dist-packages (from attacut) (1.12.0)\n",
      "Requirement already satisfied: torch>=1.2.0 in /usr/local/lib/python3.6/dist-packages (from attacut) (1.5.0+cu101)\n",
      "Collecting nptyping>=0.2.0\n",
      "  Downloading https://files.pythonhosted.org/packages/73/11/9e15ef1cd231182a3b568b65a612a173061d826de805481f44848fc27a32/nptyping-1.0.1-py3-none-any.whl\n",
      "Requirement already satisfied: docopt>=0.6.2 in /usr/local/lib/python3.6/dist-packages (from attacut) (0.6.2)\n",
      "Requirement already satisfied: numpy>=1.17.0 in /usr/local/lib/python3.6/dist-packages (from attacut) (1.18.3)\n",
      "Collecting fire>=0.1.3\n",
      "\u001b[?25l  Downloading https://files.pythonhosted.org/packages/34/a7/0e22e70778aca01a52b9c899d9c145c6396d7b613719cd63db97ffa13f2f/fire-0.3.1.tar.gz (81kB)\n",
      "\u001b[K     |████████████████████████████████| 81kB 8.2MB/s \n",
      "\u001b[?25hCollecting ssg>=0.0.4\n",
      "\u001b[?25l  Downloading https://files.pythonhosted.org/packages/06/2b/9cf956a0088f44895d20ab0aa008d8f87cc1b1a210af14601aaf72dec729/ssg-0.0.6-py3-none-any.whl (473kB)\n",
      "\u001b[K     |████████████████████████████████| 481kB 15.7MB/s \n",
      "\u001b[?25hRequirement already satisfied: future in /usr/local/lib/python3.6/dist-packages (from torch>=1.2.0->attacut) (0.16.0)\n",
      "Collecting typish>=1.5.2\n",
      "  Downloading https://files.pythonhosted.org/packages/af/b5/b5ddbd624e12b40742a0bca7cd86db42f1b4f21f6503f74542ae046c3188/typish-1.6.0-py3-none-any.whl\n",
      "Requirement already satisfied: termcolor in /usr/local/lib/python3.6/dist-packages (from fire>=0.1.3->attacut) (1.1.0)\n",
      "Collecting python-crfsuite>=0.9.6\n",
      "\u001b[?25l  Downloading https://files.pythonhosted.org/packages/95/99/869dde6dbf3e0d07a013c8eebfb0a3d30776334e0097f8432b631a9a3a19/python_crfsuite-0.9.7-cp36-cp36m-manylinux1_x86_64.whl (743kB)\n",
      "\u001b[K     |████████████████████████████████| 747kB 21.2MB/s \n",
      "\u001b[?25hRequirement already satisfied: tqdm>=4.32.2 in /usr/local/lib/python3.6/dist-packages (from ssg>=0.0.4->attacut) (4.38.0)\n",
      "Building wheels for collected packages: pyyaml, fire\n",
      "  Building wheel for pyyaml (setup.py) ... \u001b[?25l\u001b[?25hdone\n",
      "  Created wheel for pyyaml: filename=PyYAML-5.3.1-cp36-cp36m-linux_x86_64.whl size=44621 sha256=b8c4c2d56677b96930588c72a48cc0e92213f973eb3373d9545f9eba66804996\n",
      "  Stored in directory: /root/.cache/pip/wheels/a7/c1/ea/cf5bd31012e735dc1dfea3131a2d5eae7978b251083d6247bd\n",
      "  Building wheel for fire (setup.py) ... \u001b[?25l\u001b[?25hdone\n",
      "  Created wheel for fire: filename=fire-0.3.1-py2.py3-none-any.whl size=111005 sha256=44d2a335d3959c4023a050584ca25852c105a2c28f857984c87e05d59ea6b8dd\n",
      "  Stored in directory: /root/.cache/pip/wheels/c1/61/df/768b03527bf006b546dce284eb4249b185669e65afc5fbb2ac\n",
      "Successfully built pyyaml fire\n",
      "Installing collected packages: pyyaml, typish, nptyping, fire, python-crfsuite, ssg, attacut\n",
      "  Found existing installation: PyYAML 3.13\n",
      "    Uninstalling PyYAML-3.13:\n",
      "      Successfully uninstalled PyYAML-3.13\n",
      "Successfully installed attacut-1.0.6 fire-0.3.1 nptyping-1.0.1 python-crfsuite-0.9.7 pyyaml-5.3.1 ssg-0.0.6 typish-1.6.0\n",
      "--2020-05-08 01:24:42--  https://github.com/Phonbopit/sarabun-webfont/raw/master/fonts/thsarabunnew-webfont.ttf\n",
      "Resolving github.com (github.com)... 140.82.112.3\n",
      "Connecting to github.com (github.com)|140.82.112.3|:443... connected.\n",
      "HTTP request sent, awaiting response... 302 Found\n",
      "Location: https://raw.githubusercontent.com/Phonbopit/sarabun-webfont/master/fonts/thsarabunnew-webfont.ttf [following]\n",
      "--2020-05-08 01:24:43--  https://raw.githubusercontent.com/Phonbopit/sarabun-webfont/master/fonts/thsarabunnew-webfont.ttf\n",
      "Resolving raw.githubusercontent.com (raw.githubusercontent.com)... 151.101.0.133, 151.101.64.133, 151.101.128.133, ...\n",
      "Connecting to raw.githubusercontent.com (raw.githubusercontent.com)|151.101.0.133|:443... connected.\n",
      "HTTP request sent, awaiting response... 200 OK\n",
      "Length: 98308 (96K) [application/octet-stream]\n",
      "Saving to: ‘thsarabunnew-webfont.ttf’\n",
      "\n",
      "thsarabunnew-webfon 100%[===================>]  96.00K  --.-KB/s    in 0.03s   \n",
      "\n",
      "2020-05-08 01:24:51 (2.88 MB/s) - ‘thsarabunnew-webfont.ttf’ saved [98308/98308]\n",
      "\n"
     ]
    }
   ],
   "source": [
    "!pip install pythainlp\n",
    "!pip install attacut\n",
    "!wget https://github.com/Phonbopit/sarabun-webfont/raw/master/fonts/thsarabunnew-webfont.ttf"
   ]
  },
  {
   "cell_type": "code",
   "execution_count": 0,
   "metadata": {
    "colab": {
     "base_uri": "https://localhost:8080/",
     "height": 52
    },
    "colab_type": "code",
    "executionInfo": {
     "elapsed": 46110,
     "status": "ok",
     "timestamp": 1588901098346,
     "user": {
      "displayName": "Natawat Sirichaitayakul",
      "photoUrl": "",
      "userId": "10237147463727492124"
     },
     "user_tz": -420
    },
    "id": "JabdLn0A5fnM",
    "outputId": "07d9d04e-cdb5-4a72-b0f7-573c9cefa13e"
   },
   "outputs": [
    {
     "name": "stderr",
     "output_type": "stream",
     "text": [
      "/usr/local/lib/python3.6/dist-packages/statsmodels/tools/_testing.py:19: FutureWarning: pandas.util.testing is deprecated. Use the functions in the public API at pandas.testing instead.\n",
      "  import pandas.util.testing as tm\n"
     ]
    }
   ],
   "source": [
    "import numpy as np\n",
    "import pandas as pd\n",
    "import matplotlib\n",
    "import seaborn as sns\n",
    "import matplotlib.pyplot as plt\n",
    "import matplotlib.font_manager as fm\n",
    "import glob\n",
    "\n",
    "import warnings\n",
    "from pythainlp import word_tokenize\n",
    "from ast import literal_eval\n",
    "from tqdm import tqdm_notebook\n",
    "from collections import Counter\n",
    "\n",
    "#viz\n",
    "from plotnine import *"
   ]
  },
  {
   "cell_type": "code",
   "execution_count": 0,
   "metadata": {
    "colab": {
     "base_uri": "https://localhost:8080/",
     "height": 69
    },
    "colab_type": "code",
    "executionInfo": {
     "elapsed": 45818,
     "status": "ok",
     "timestamp": 1588901098347,
     "user": {
      "displayName": "Natawat Sirichaitayakul",
      "photoUrl": "",
      "userId": "10237147463727492124"
     },
     "user_tz": -420
    },
    "id": "koNBmCjA52Ch",
    "outputId": "2106114a-a1f7-419c-d376-0c67b633884f"
   },
   "outputs": [
    {
     "name": "stderr",
     "output_type": "stream",
     "text": [
      "/usr/local/lib/python3.6/dist-packages/ipykernel_launcher.py:1: MatplotlibDeprecationWarning: \n",
      "The createFontList function was deprecated in Matplotlib 3.2 and will be removed two minor releases later. Use FontManager.addfont instead.\n",
      "  \"\"\"Entry point for launching an IPython kernel.\n"
     ]
    }
   ],
   "source": [
    "fm.fontManager.ttflist += fm.createFontList(['thsarabunnew-webfont.ttf'])\n",
    "matplotlib.rc('font', family='TH Sarabun New')"
   ]
  },
  {
   "cell_type": "code",
   "execution_count": 0,
   "metadata": {
    "colab": {
     "base_uri": "https://localhost:8080/",
     "height": 191
    },
    "colab_type": "code",
    "executionInfo": {
     "elapsed": 48024,
     "status": "ok",
     "timestamp": 1588901100965,
     "user": {
      "displayName": "Natawat Sirichaitayakul",
      "photoUrl": "",
      "userId": "10237147463727492124"
     },
     "user_tz": -420
    },
    "id": "70_xZQbEqMT-",
    "outputId": "d8c4eee1-11d2-4c7e-ce29-b0b5ccae3054"
   },
   "outputs": [
    {
     "name": "stdout",
     "output_type": "stream",
     "text": [
      "109_done.csv\n",
      "108_done.csv\n",
      "101_done.csv\n",
      "115_done.csv\n",
      "129_done.csv\n",
      "401_done.csv\n",
      "1004_done.csv\n",
      "1003_done.csv\n",
      "1005_done.csv\n",
      "['น้ำมัน', 'พลังงานไฟฟ้า', 'การบิน', 'อสังหา', 'ธุรกิจค้าปลีก', 'ธนาคาร', 'ภัยพิบัติ', 'สงคราม', 'โรคระบาด']\n"
     ]
    }
   ],
   "source": [
    "# # test glob\n",
    "# path = \"/content/drive/My Drive/Colab Notebooks/nlp/course_project/news_data/*.csv\"\n",
    "# filenames = glob.glob(path)\n",
    "# label_list = []\n",
    "# label_dict = {'101': 'การบิน', '108': 'พลังงานไฟฟ้า', '109': 'น้ำมัน', '115': 'อสังหา'\n",
    "#             , '129': 'ธุรกิจค้าปลีก', '401': 'ธนาคาร', '1003': 'สงคราม', '1004': 'ภัยพิบัติ', '1005': 'โรคระบาด'}\n",
    "\n",
    "# for file in filenames:\n",
    "#     print(file.split('/')[-1])\n",
    "\n",
    "# for file in filenames:\n",
    "#     label_list.append(label_dict[file.split('/')[-1].split('_')[0]])\n",
    "# print(label_list)"
   ]
  },
  {
   "cell_type": "code",
   "execution_count": 0,
   "metadata": {
    "colab": {
     "base_uri": "https://localhost:8080/",
     "height": 424
    },
    "colab_type": "code",
    "executionInfo": {
     "elapsed": 63902,
     "status": "ok",
     "timestamp": 1588901117480,
     "user": {
      "displayName": "Natawat Sirichaitayakul",
      "photoUrl": "",
      "userId": "10237147463727492124"
     },
     "user_tz": -420
    },
    "id": "sILKn-bRhFiK",
    "outputId": "c977a4f0-12e8-46b6-a191-263248b83206"
   },
   "outputs": [
    {
     "data": {
      "text/html": [
       "<div>\n",
       "<style scoped>\n",
       "    .dataframe tbody tr th:only-of-type {\n",
       "        vertical-align: middle;\n",
       "    }\n",
       "\n",
       "    .dataframe tbody tr th {\n",
       "        vertical-align: top;\n",
       "    }\n",
       "\n",
       "    .dataframe thead th {\n",
       "        text-align: right;\n",
       "    }\n",
       "</style>\n",
       "<table border=\"1\" class=\"dataframe\">\n",
       "  <thead>\n",
       "    <tr style=\"text-align: right;\">\n",
       "      <th></th>\n",
       "      <th>date</th>\n",
       "      <th>headline</th>\n",
       "      <th>label</th>\n",
       "    </tr>\n",
       "  </thead>\n",
       "  <tbody>\n",
       "    <tr>\n",
       "      <th>0</th>\n",
       "      <td>1/6/2006</td>\n",
       "      <td>คอลัมน์เกาะติดเศรษฐกิจ-การเงิน:น้ำมันแพงเกี่ยว...</td>\n",
       "      <td>น้ำมัน</td>\n",
       "    </tr>\n",
       "    <tr>\n",
       "      <th>1</th>\n",
       "      <td>1/6/2006</td>\n",
       "      <td>มิ.ย.คนไทยซดน้ำมันแพง'วเศษ'รับไม่ต่ำกว่า30บ./ลิตร</td>\n",
       "      <td>น้ำมัน</td>\n",
       "    </tr>\n",
       "    <tr>\n",
       "      <th>2</th>\n",
       "      <td>1/6/2006</td>\n",
       "      <td>ต่างชาติถล่มขายหุ้นเครือปตท.มาร์เก็ตแคปพ.ค.หาย...</td>\n",
       "      <td>น้ำมัน</td>\n",
       "    </tr>\n",
       "    <tr>\n",
       "      <th>3</th>\n",
       "      <td>1/6/2006</td>\n",
       "      <td>คอลัมน์กรุงเทพมอนิเตอร์:หน้า24</td>\n",
       "      <td>น้ำมัน</td>\n",
       "    </tr>\n",
       "    <tr>\n",
       "      <th>4</th>\n",
       "      <td>1/6/2006</td>\n",
       "      <td>คาดโอเปคไม่ผลิตเพิ่มหวั่นน้ำมันราคาพุ่งยันปริม...</td>\n",
       "      <td>น้ำมัน</td>\n",
       "    </tr>\n",
       "    <tr>\n",
       "      <th>...</th>\n",
       "      <td>...</td>\n",
       "      <td>...</td>\n",
       "      <td>...</td>\n",
       "    </tr>\n",
       "    <tr>\n",
       "      <th>47523</th>\n",
       "      <td>14/2/2020</td>\n",
       "      <td>คอลัมน์ย่องก๊วน</td>\n",
       "      <td>โรคระบาด</td>\n",
       "    </tr>\n",
       "    <tr>\n",
       "      <th>47524</th>\n",
       "      <td>14/2/2020</td>\n",
       "      <td>คอลัมน์โลกาภิวัตน์:ส่งเสริมความเข้าใจ</td>\n",
       "      <td>โรคระบาด</td>\n",
       "    </tr>\n",
       "    <tr>\n",
       "      <th>47525</th>\n",
       "      <td>14/2/2020</td>\n",
       "      <td>คอลัมน์คาบลูกคาบดอก:อยู่ด้วยความหวัง</td>\n",
       "      <td>โรคระบาด</td>\n",
       "    </tr>\n",
       "    <tr>\n",
       "      <th>47526</th>\n",
       "      <td>14/2/2020</td>\n",
       "      <td>คอลัมน์จดหมายถึงเดลินิวส์</td>\n",
       "      <td>โรคระบาด</td>\n",
       "    </tr>\n",
       "    <tr>\n",
       "      <th>47527</th>\n",
       "      <td>14/2/2020</td>\n",
       "      <td>คอลัมน์ชื่นชีวิต:เครื่องตรวจสอบการกลายพันธุ์ไว...</td>\n",
       "      <td>โรคระบาด</td>\n",
       "    </tr>\n",
       "  </tbody>\n",
       "</table>\n",
       "<p>2228591 rows × 3 columns</p>\n",
       "</div>"
      ],
      "text/plain": [
       "            date                                           headline     label\n",
       "0       1/6/2006  คอลัมน์เกาะติดเศรษฐกิจ-การเงิน:น้ำมันแพงเกี่ยว...    น้ำมัน\n",
       "1       1/6/2006  มิ.ย.คนไทยซดน้ำมันแพง'วเศษ'รับไม่ต่ำกว่า30บ./ลิตร    น้ำมัน\n",
       "2       1/6/2006  ต่างชาติถล่มขายหุ้นเครือปตท.มาร์เก็ตแคปพ.ค.หาย...    น้ำมัน\n",
       "3       1/6/2006                     คอลัมน์กรุงเทพมอนิเตอร์:หน้า24    น้ำมัน\n",
       "4       1/6/2006  คาดโอเปคไม่ผลิตเพิ่มหวั่นน้ำมันราคาพุ่งยันปริม...    น้ำมัน\n",
       "...          ...                                                ...       ...\n",
       "47523  14/2/2020                                    คอลัมน์ย่องก๊วน  โรคระบาด\n",
       "47524  14/2/2020              คอลัมน์โลกาภิวัตน์:ส่งเสริมความเข้าใจ  โรคระบาด\n",
       "47525  14/2/2020               คอลัมน์คาบลูกคาบดอก:อยู่ด้วยความหวัง  โรคระบาด\n",
       "47526  14/2/2020                          คอลัมน์จดหมายถึงเดลินิวส์  โรคระบาด\n",
       "47527  14/2/2020  คอลัมน์ชื่นชีวิต:เครื่องตรวจสอบการกลายพันธุ์ไว...  โรคระบาด\n",
       "\n",
       "[2228591 rows x 3 columns]"
      ]
     },
     "execution_count": 6,
     "metadata": {
      "tags": []
     },
     "output_type": "execute_result"
    }
   ],
   "source": [
    "def loadCSVToDataframe(filenames, label_list):\n",
    "    \"\"\" return dataframe contain data from all files with label column \"\"\"\n",
    "    \n",
    "    df_list = []\n",
    "\n",
    "    for i, file in enumerate(filenames):\n",
    "        df = pd.read_csv(file)\n",
    "        df['label'] = label_list[i]\n",
    "        df_list.append(df)\n",
    "    return pd.concat(df_list)\n",
    "\n",
    "def createLabelList(filenames, label_dict):\n",
    "    \"\"\" create label_list associated with filenames from label_dict\"\"\"\n",
    "    label_list = []\n",
    "\n",
    "    for file in filenames:\n",
    "        dict_key = file.split('/')[-1].split('_')[0]\n",
    "        label_list.append(label_dict[dict_key])    \n",
    "    \n",
    "    return label_list\n",
    "\n",
    "# create list of files absolute path\n",
    "path = \"/content/drive/My Drive/Colab Notebooks/nlp/course_project/news_data/\"\n",
    "filenames = glob.glob(path + '*.csv')\n",
    "\n",
    "\n",
    "label_dict = {'101': 'การบิน', '108': 'พลังงานไฟฟ้า', '109': 'น้ำมัน', '115': 'อสังหา'\n",
    "            , '129': 'ธุรกิจค้าปลีก', '401': 'ธนาคาร', '1003': 'สงคราม', '1004': 'ภัยพิบัติ', '1005': 'โรคระบาด'}\n",
    "label_list = createLabelList(filenames, label_dict)\n",
    "\n",
    "\n",
    "master_df = loadCSVToDataframe(filenames, label_list)\n",
    "master_df"
   ]
  },
  {
   "cell_type": "code",
   "execution_count": 0,
   "metadata": {
    "colab": {},
    "colab_type": "code",
    "id": "It-48mdqBaeF"
   },
   "outputs": [],
   "source": [
    "# make change to df\n",
    "df = master_df"
   ]
  },
  {
   "cell_type": "code",
   "execution_count": 0,
   "metadata": {
    "colab": {
     "base_uri": "https://localhost:8080/",
     "height": 175
    },
    "colab_type": "code",
    "executionInfo": {
     "elapsed": 4466,
     "status": "ok",
     "timestamp": 1588901177817,
     "user": {
      "displayName": "Natawat Sirichaitayakul",
      "photoUrl": "",
      "userId": "10237147463727492124"
     },
     "user_tz": -420
    },
    "id": "lkrReilLZbSv",
    "outputId": "2477c073-ddfd-4405-98e4-38ae777d7bac"
   },
   "outputs": [
    {
     "data": {
      "text/html": [
       "<div>\n",
       "<style scoped>\n",
       "    .dataframe tbody tr th:only-of-type {\n",
       "        vertical-align: middle;\n",
       "    }\n",
       "\n",
       "    .dataframe tbody tr th {\n",
       "        vertical-align: top;\n",
       "    }\n",
       "\n",
       "    .dataframe thead th {\n",
       "        text-align: right;\n",
       "    }\n",
       "</style>\n",
       "<table border=\"1\" class=\"dataframe\">\n",
       "  <thead>\n",
       "    <tr style=\"text-align: right;\">\n",
       "      <th></th>\n",
       "      <th>date</th>\n",
       "      <th>headline</th>\n",
       "      <th>label</th>\n",
       "    </tr>\n",
       "  </thead>\n",
       "  <tbody>\n",
       "    <tr>\n",
       "      <th>count</th>\n",
       "      <td>2228591</td>\n",
       "      <td>2228591</td>\n",
       "      <td>2228591</td>\n",
       "    </tr>\n",
       "    <tr>\n",
       "      <th>unique</th>\n",
       "      <td>5006</td>\n",
       "      <td>1528466</td>\n",
       "      <td>9</td>\n",
       "    </tr>\n",
       "    <tr>\n",
       "      <th>top</th>\n",
       "      <td>25/10/2011</td>\n",
       "      <td>คอลัมน์สังคมธุรกิจ</td>\n",
       "      <td>ธนาคาร</td>\n",
       "    </tr>\n",
       "    <tr>\n",
       "      <th>freq</th>\n",
       "      <td>1479</td>\n",
       "      <td>6917</td>\n",
       "      <td>609026</td>\n",
       "    </tr>\n",
       "  </tbody>\n",
       "</table>\n",
       "</div>"
      ],
      "text/plain": [
       "              date            headline    label\n",
       "count      2228591             2228591  2228591\n",
       "unique        5006             1528466        9\n",
       "top     25/10/2011  คอลัมน์สังคมธุรกิจ   ธนาคาร\n",
       "freq          1479                6917   609026"
      ]
     },
     "execution_count": 8,
     "metadata": {
      "tags": []
     },
     "output_type": "execute_result"
    }
   ],
   "source": [
    "df.describe()"
   ]
  },
  {
   "cell_type": "code",
   "execution_count": 0,
   "metadata": {
    "colab": {
     "base_uri": "https://localhost:8080/",
     "height": 104
    },
    "colab_type": "code",
    "executionInfo": {
     "elapsed": 5481,
     "status": "ok",
     "timestamp": 1588901181576,
     "user": {
      "displayName": "Natawat Sirichaitayakul",
      "photoUrl": "",
      "userId": "10237147463727492124"
     },
     "user_tz": -420
    },
    "id": "tPRCIVC456UO",
    "outputId": "5c9be4e9-2a9c-4ad3-fcf9-625efe2b850f"
   },
   "outputs": [
    {
     "data": {
      "text/plain": [
       "count                2228591\n",
       "unique               1525288\n",
       "top       คอลัมน์สังคมธุรกิจ\n",
       "freq                    6917\n",
       "Name: headline, dtype: object"
      ]
     },
     "metadata": {
      "tags": []
     },
     "output_type": "display_data"
    }
   ],
   "source": [
    "## Lower\n",
    "df['headline'] = df['headline'].str.lower().copy()\n",
    "display(df['headline'].describe())"
   ]
  },
  {
   "cell_type": "code",
   "execution_count": 0,
   "metadata": {
    "colab": {
     "base_uri": "https://localhost:8080/",
     "height": 104
    },
    "colab_type": "code",
    "executionInfo": {
     "elapsed": 5080,
     "status": "ok",
     "timestamp": 1588901187045,
     "user": {
      "displayName": "Natawat Sirichaitayakul",
      "photoUrl": "",
      "userId": "10237147463727492124"
     },
     "user_tz": -420
    },
    "id": "x3PCt-7L6GR1",
    "outputId": "d6580cc3-2cd6-46ee-b93d-149b8487ca1c"
   },
   "outputs": [
    {
     "data": {
      "text/plain": [
       "count                                               1525288\n",
       "unique                                              1525288\n",
       "top       แบงก์ชาติหวั่นผู้ต้องหาคดี\"มหานคร\"ชิ่งชี้19ม.ค...\n",
       "freq                                                      1\n",
       "Name: headline, dtype: object"
      ]
     },
     "metadata": {
      "tags": []
     },
     "output_type": "display_data"
    }
   ],
   "source": [
    "## Duplicates\n",
    "df = df.drop_duplicates(\"headline\", keep=\"first\")\n",
    "display(df['headline'].describe())"
   ]
  },
  {
   "cell_type": "code",
   "execution_count": 0,
   "metadata": {
    "colab": {
     "base_uri": "https://localhost:8080/",
     "height": 121
    },
    "colab_type": "code",
    "executionInfo": {
     "elapsed": 11745,
     "status": "ok",
     "timestamp": 1588901198370,
     "user": {
      "displayName": "Natawat Sirichaitayakul",
      "photoUrl": "",
      "userId": "10237147463727492124"
     },
     "user_tz": -420
    },
    "id": "H0zD9gA16KOK",
    "outputId": "378467ae-276a-4152-a407-2515ed631c92"
   },
   "outputs": [
    {
     "name": "stderr",
     "output_type": "stream",
     "text": [
      "/usr/local/lib/python3.6/dist-packages/ipykernel_launcher.py:7: SettingWithCopyWarning: \n",
      "A value is trying to be set on a copy of a slice from a DataFrame.\n",
      "Try using .loc[row_indexer,col_indexer] = value instead\n",
      "\n",
      "See the caveats in the documentation: https://pandas.pydata.org/pandas-docs/stable/user_guide/indexing.html#returning-a-view-versus-a-copy\n",
      "  import sys\n"
     ]
    }
   ],
   "source": [
    "## Punctuation\n",
    "import string\n",
    "def process_text(text):\n",
    "    nopunc = [char for char in text if char not in string.punctuation]\n",
    "    nopunc = \"\".join(nopunc)\n",
    "    return nopunc\n",
    "\n",
    "df['headline'] = df.headline.map(lambda x: ''.join(process_text(x)))"
   ]
  },
  {
   "cell_type": "code",
   "execution_count": 0,
   "metadata": {
    "colab": {
     "base_uri": "https://localhost:8080/",
     "height": 175
    },
    "colab_type": "code",
    "executionInfo": {
     "elapsed": 5489,
     "status": "ok",
     "timestamp": 1588901200404,
     "user": {
      "displayName": "Natawat Sirichaitayakul",
      "photoUrl": "",
      "userId": "10237147463727492124"
     },
     "user_tz": -420
    },
    "id": "N-AjVKnQataX",
    "outputId": "72c259a6-5e39-400c-ad0b-78c0d22a5bc3"
   },
   "outputs": [
    {
     "data": {
      "text/html": [
       "<div>\n",
       "<style scoped>\n",
       "    .dataframe tbody tr th:only-of-type {\n",
       "        vertical-align: middle;\n",
       "    }\n",
       "\n",
       "    .dataframe tbody tr th {\n",
       "        vertical-align: top;\n",
       "    }\n",
       "\n",
       "    .dataframe thead th {\n",
       "        text-align: right;\n",
       "    }\n",
       "</style>\n",
       "<table border=\"1\" class=\"dataframe\">\n",
       "  <thead>\n",
       "    <tr style=\"text-align: right;\">\n",
       "      <th></th>\n",
       "      <th>date</th>\n",
       "      <th>headline</th>\n",
       "      <th>label</th>\n",
       "    </tr>\n",
       "  </thead>\n",
       "  <tbody>\n",
       "    <tr>\n",
       "      <th>count</th>\n",
       "      <td>1525288</td>\n",
       "      <td>1525288</td>\n",
       "      <td>1525288</td>\n",
       "    </tr>\n",
       "    <tr>\n",
       "      <th>unique</th>\n",
       "      <td>5006</td>\n",
       "      <td>1517815</td>\n",
       "      <td>9</td>\n",
       "    </tr>\n",
       "    <tr>\n",
       "      <th>top</th>\n",
       "      <td>25/10/2011</td>\n",
       "      <td>คอลัมน์เรียงคนมาเป็นข่าว</td>\n",
       "      <td>ธนาคาร</td>\n",
       "    </tr>\n",
       "    <tr>\n",
       "      <th>freq</th>\n",
       "      <td>976</td>\n",
       "      <td>9</td>\n",
       "      <td>399810</td>\n",
       "    </tr>\n",
       "  </tbody>\n",
       "</table>\n",
       "</div>"
      ],
      "text/plain": [
       "              date                  headline    label\n",
       "count      1525288                   1525288  1525288\n",
       "unique        5006                   1517815        9\n",
       "top     25/10/2011  คอลัมน์เรียงคนมาเป็นข่าว   ธนาคาร\n",
       "freq           976                         9   399810"
      ]
     },
     "execution_count": 12,
     "metadata": {
      "tags": []
     },
     "output_type": "execute_result"
    }
   ],
   "source": [
    "df.describe()"
   ]
  },
  {
   "cell_type": "code",
   "execution_count": 0,
   "metadata": {
    "colab": {
     "base_uri": "https://localhost:8080/",
     "height": 528
    },
    "colab_type": "code",
    "executionInfo": {
     "elapsed": 3470,
     "status": "ok",
     "timestamp": 1588901207713,
     "user": {
      "displayName": "Natawat Sirichaitayakul",
      "photoUrl": "",
      "userId": "10237147463727492124"
     },
     "user_tz": -420
    },
    "id": "fScKscp46QET",
    "outputId": "b2e74d4a-f466-450c-e116-5856acd794a5"
   },
   "outputs": [
    {
     "name": "stderr",
     "output_type": "stream",
     "text": [
      "/usr/local/lib/python3.6/dist-packages/ipykernel_launcher.py:2: SettingWithCopyWarning: \n",
      "A value is trying to be set on a copy of a slice from a DataFrame.\n",
      "Try using .loc[row_indexer,col_indexer] = value instead\n",
      "\n",
      "See the caveats in the documentation: https://pandas.pydata.org/pandas-docs/stable/user_guide/indexing.html#returning-a-view-versus-a-copy\n",
      "  \n"
     ]
    },
    {
     "data": {
      "text/html": [
       "<div>\n",
       "<style scoped>\n",
       "    .dataframe tbody tr th:only-of-type {\n",
       "        vertical-align: middle;\n",
       "    }\n",
       "\n",
       "    .dataframe tbody tr th {\n",
       "        vertical-align: top;\n",
       "    }\n",
       "\n",
       "    .dataframe thead th {\n",
       "        text-align: right;\n",
       "    }\n",
       "</style>\n",
       "<table border=\"1\" class=\"dataframe\">\n",
       "  <thead>\n",
       "    <tr style=\"text-align: right;\">\n",
       "      <th></th>\n",
       "      <th>date</th>\n",
       "      <th>headline</th>\n",
       "      <th>label</th>\n",
       "    </tr>\n",
       "  </thead>\n",
       "  <tbody>\n",
       "    <tr>\n",
       "      <th>0</th>\n",
       "      <td>1/6/2006</td>\n",
       "      <td>เกาะติดเศรษฐกิจการเงินน้ำมันแพงเกี่ยวข้องกับค่า</td>\n",
       "      <td>น้ำมัน</td>\n",
       "    </tr>\n",
       "    <tr>\n",
       "      <th>1</th>\n",
       "      <td>1/6/2006</td>\n",
       "      <td>มิยคนไทยซดน้ำมันแพงวเศษรับไม่ต่ำกว่า30บลิตร</td>\n",
       "      <td>น้ำมัน</td>\n",
       "    </tr>\n",
       "    <tr>\n",
       "      <th>2</th>\n",
       "      <td>1/6/2006</td>\n",
       "      <td>ต่างชาติถล่มขายหุ้นเครือปตทมาร์เก็ตแคปพคหายแสน...</td>\n",
       "      <td>น้ำมัน</td>\n",
       "    </tr>\n",
       "    <tr>\n",
       "      <th>3</th>\n",
       "      <td>1/6/2006</td>\n",
       "      <td>หน้า24</td>\n",
       "      <td>น้ำมัน</td>\n",
       "    </tr>\n",
       "    <tr>\n",
       "      <th>4</th>\n",
       "      <td>1/6/2006</td>\n",
       "      <td>คาดโอเปคไม่ผลิตเพิ่มหวั่นน้ำมันราคาพุ่งยันปริม...</td>\n",
       "      <td>น้ำมัน</td>\n",
       "    </tr>\n",
       "    <tr>\n",
       "      <th>...</th>\n",
       "      <td>...</td>\n",
       "      <td>...</td>\n",
       "      <td>...</td>\n",
       "    </tr>\n",
       "    <tr>\n",
       "      <th>47510</th>\n",
       "      <td>14/2/2020</td>\n",
       "      <td>ในประเทศไวรัสโคโรนาคร่าชีวิตคนทะลุพันเรือ</td>\n",
       "      <td>โรคระบาด</td>\n",
       "    </tr>\n",
       "    <tr>\n",
       "      <th>47511</th>\n",
       "      <td>14/2/2020</td>\n",
       "      <td>thaiofficialskeepingclosewatchoncruiseship</td>\n",
       "      <td>โรคระบาด</td>\n",
       "    </tr>\n",
       "    <tr>\n",
       "      <th>47517</th>\n",
       "      <td>14/2/2020</td>\n",
       "      <td>หมอจีนระส่ำคนไข้โควิด19ล้น</td>\n",
       "      <td>โรคระบาด</td>\n",
       "    </tr>\n",
       "    <tr>\n",
       "      <th>47521</th>\n",
       "      <td>14/2/2020</td>\n",
       "      <td>สธเผยชายจีนติดไวรัสหายดีเตรียมกลับบ้านอีก1รายไ...</td>\n",
       "      <td>โรคระบาด</td>\n",
       "    </tr>\n",
       "    <tr>\n",
       "      <th>47522</th>\n",
       "      <td>14/2/2020</td>\n",
       "      <td>สธเตรียมแผนคัดกรองหากผู้โดยสารเรือเวสเตอร์ดามเ...</td>\n",
       "      <td>โรคระบาด</td>\n",
       "    </tr>\n",
       "  </tbody>\n",
       "</table>\n",
       "<p>1525288 rows × 3 columns</p>\n",
       "</div>"
      ],
      "text/plain": [
       "            date                                           headline     label\n",
       "0       1/6/2006    เกาะติดเศรษฐกิจการเงินน้ำมันแพงเกี่ยวข้องกับค่า    น้ำมัน\n",
       "1       1/6/2006        มิยคนไทยซดน้ำมันแพงวเศษรับไม่ต่ำกว่า30บลิตร    น้ำมัน\n",
       "2       1/6/2006  ต่างชาติถล่มขายหุ้นเครือปตทมาร์เก็ตแคปพคหายแสน...    น้ำมัน\n",
       "3       1/6/2006                                             หน้า24    น้ำมัน\n",
       "4       1/6/2006  คาดโอเปคไม่ผลิตเพิ่มหวั่นน้ำมันราคาพุ่งยันปริม...    น้ำมัน\n",
       "...          ...                                                ...       ...\n",
       "47510  14/2/2020          ในประเทศไวรัสโคโรนาคร่าชีวิตคนทะลุพันเรือ  โรคระบาด\n",
       "47511  14/2/2020         thaiofficialskeepingclosewatchoncruiseship  โรคระบาด\n",
       "47517  14/2/2020                         หมอจีนระส่ำคนไข้โควิด19ล้น  โรคระบาด\n",
       "47521  14/2/2020  สธเผยชายจีนติดไวรัสหายดีเตรียมกลับบ้านอีก1รายไ...  โรคระบาด\n",
       "47522  14/2/2020  สธเตรียมแผนคัดกรองหากผู้โดยสารเรือเวสเตอร์ดามเ...  โรคระบาด\n",
       "\n",
       "[1525288 rows x 3 columns]"
      ]
     },
     "execution_count": 13,
     "metadata": {
      "tags": []
     },
     "output_type": "execute_result"
    }
   ],
   "source": [
    "## Delete\n",
    "cword = 'คอลัมน์|ภาพข่าว|กรุงเทพมอนิเตอร์|รายงาน|สัมภาษณ์'\n",
    "df['headline'] = df['headline'].str.replace(cword, '')\n",
    "df"
   ]
  },
  {
   "cell_type": "code",
   "execution_count": 0,
   "metadata": {
    "colab": {
     "base_uri": "https://localhost:8080/",
     "height": 191
    },
    "colab_type": "code",
    "executionInfo": {
     "elapsed": 1521,
     "status": "ok",
     "timestamp": 1588901261063,
     "user": {
      "displayName": "Natawat Sirichaitayakul",
      "photoUrl": "",
      "userId": "10237147463727492124"
     },
     "user_tz": -420
    },
    "id": "SdwU2lCz6XI-",
    "outputId": "09a2dd27-b7fa-42f7-cc10-1c7a797d733c"
   },
   "outputs": [
    {
     "name": "stdout",
     "output_type": "stream",
     "text": [
      "<class 'pandas.core.frame.DataFrame'>\n",
      "Int64Index: 1525288 entries, 0 to 47522\n",
      "Data columns (total 3 columns):\n",
      " #   Column    Non-Null Count    Dtype \n",
      "---  ------    --------------    ----- \n",
      " 0   date      1525288 non-null  object\n",
      " 1   headline  1525288 non-null  object\n",
      " 2   label     1525288 non-null  object\n",
      "dtypes: object(3)\n",
      "memory usage: 46.5+ MB\n"
     ]
    }
   ],
   "source": [
    "## Missing\n",
    "df.isnull().any()\n",
    "df.info()"
   ]
  },
  {
   "cell_type": "code",
   "execution_count": 0,
   "metadata": {
    "colab": {
     "base_uri": "https://localhost:8080/",
     "height": 34
    },
    "colab_type": "code",
    "executionInfo": {
     "elapsed": 2318,
     "status": "ok",
     "timestamp": 1588901403320,
     "user": {
      "displayName": "Natawat Sirichaitayakul",
      "photoUrl": "",
      "userId": "10237147463727492124"
     },
     "user_tz": -420
    },
    "id": "HC944aL95vN_",
    "outputId": "b70e730e-1d30-47d2-f38a-2eae8b1dd031"
   },
   "outputs": [
    {
     "data": {
      "text/plain": [
       "1514049"
      ]
     },
     "execution_count": 15,
     "metadata": {
      "tags": []
     },
     "output_type": "execute_result"
    }
   ],
   "source": [
    "len(df.headline.unique())"
   ]
  },
  {
   "cell_type": "code",
   "execution_count": 0,
   "metadata": {
    "colab": {
     "base_uri": "https://localhost:8080/",
     "height": 327
    },
    "colab_type": "code",
    "executionInfo": {
     "elapsed": 1609,
     "status": "ok",
     "timestamp": 1588901403322,
     "user": {
      "displayName": "Natawat Sirichaitayakul",
      "photoUrl": "",
      "userId": "10237147463727492124"
     },
     "user_tz": -420
    },
    "id": "Jzoh6sCb6y49",
    "outputId": "2947ae91-0cb9-405a-c660-b25253cb5177"
   },
   "outputs": [
    {
     "data": {
      "text/plain": [
       "<matplotlib.axes._subplots.AxesSubplot at 0x7f6cf0bfecc0>"
      ]
     },
     "execution_count": 16,
     "metadata": {
      "tags": []
     },
     "output_type": "execute_result"
    },
    {
     "data": {
      "image/png": "[encoded data removed]",
      "text/plain": [
       "<Figure size 432x288 with 1 Axes>"
      ]
     },
     "metadata": {
      "needs_background": "light",
      "tags": []
     },
     "output_type": "display_data"
    }
   ],
   "source": [
    "df['label'].value_counts().plot.bar(color = 'black', figsize = (6, 4))"
   ]
  },
  {
   "cell_type": "code",
   "execution_count": 0,
   "metadata": {
    "colab": {
     "base_uri": "https://localhost:8080/",
     "height": 363
    },
    "colab_type": "code",
    "executionInfo": {
     "elapsed": 1347,
     "status": "ok",
     "timestamp": 1588901405417,
     "user": {
      "displayName": "Natawat Sirichaitayakul",
      "photoUrl": "",
      "userId": "10237147463727492124"
     },
     "user_tz": -420
    },
    "id": "mGvOIt8l6ima",
    "outputId": "341c9718-2d28-44c7-9a8a-b5795c05be69"
   },
   "outputs": [
    {
     "data": {
      "text/html": [
       "<div>\n",
       "<style scoped>\n",
       "    .dataframe tbody tr th:only-of-type {\n",
       "        vertical-align: middle;\n",
       "    }\n",
       "\n",
       "    .dataframe tbody tr th {\n",
       "        vertical-align: top;\n",
       "    }\n",
       "\n",
       "    .dataframe thead th {\n",
       "        text-align: right;\n",
       "    }\n",
       "</style>\n",
       "<table border=\"1\" class=\"dataframe\">\n",
       "  <thead>\n",
       "    <tr style=\"text-align: right;\">\n",
       "      <th></th>\n",
       "      <th>date</th>\n",
       "      <th>headline</th>\n",
       "      <th>label</th>\n",
       "    </tr>\n",
       "  </thead>\n",
       "  <tbody>\n",
       "    <tr>\n",
       "      <th>0</th>\n",
       "      <td>1/6/2006</td>\n",
       "      <td>delhinottopofhivleague</td>\n",
       "      <td>โรคระบาด</td>\n",
       "    </tr>\n",
       "    <tr>\n",
       "      <th>1</th>\n",
       "      <td>1/6/2006</td>\n",
       "      <td>หวัดนกลามไม่เลิกอิเหนาตายอีกเจ้าหน้าที่ถกเครีย...</td>\n",
       "      <td>โรคระบาด</td>\n",
       "    </tr>\n",
       "    <tr>\n",
       "      <th>2</th>\n",
       "      <td>1/6/2006</td>\n",
       "      <td>diseasespreadsinburmavietnam</td>\n",
       "      <td>โรคระบาด</td>\n",
       "    </tr>\n",
       "    <tr>\n",
       "      <th>3</th>\n",
       "      <td>1/6/2006</td>\n",
       "      <td>เฝ้าระวังหวัดนกคืนชีพ</td>\n",
       "      <td>โรคระบาด</td>\n",
       "    </tr>\n",
       "    <tr>\n",
       "      <th>5</th>\n",
       "      <td>1/6/2006</td>\n",
       "      <td>กรมวิทย์หนุนไบโอเทควิจัยโรคอุบัติเหตุใหม่เป้าแ...</td>\n",
       "      <td>โรคระบาด</td>\n",
       "    </tr>\n",
       "    <tr>\n",
       "      <th>6</th>\n",
       "      <td>1/6/2006</td>\n",
       "      <td>จอดป้ายประชาชื่นหวัดนกหวัดใหญ่วัคซีนจบ</td>\n",
       "      <td>โรคระบาด</td>\n",
       "    </tr>\n",
       "    <tr>\n",
       "      <th>7</th>\n",
       "      <td>1/6/2006</td>\n",
       "      <td>ปรับแผนสกัดหวัดนกจี้โรชส่งทามิฟลู24ชม</td>\n",
       "      <td>โรคระบาด</td>\n",
       "    </tr>\n",
       "    <tr>\n",
       "      <th>8</th>\n",
       "      <td>1/6/2006</td>\n",
       "      <td>thailandaxeshumanvaccinetrialplannedwith</td>\n",
       "      <td>โรคระบาด</td>\n",
       "    </tr>\n",
       "    <tr>\n",
       "      <th>9</th>\n",
       "      <td>1/6/2006</td>\n",
       "      <td>ยูเอ็นห่วงภาวะเอดส์เอเชียอินเดียยอดพุ่งแซงแอฟริกา</td>\n",
       "      <td>โรคระบาด</td>\n",
       "    </tr>\n",
       "    <tr>\n",
       "      <th>11</th>\n",
       "      <td>2/6/2006</td>\n",
       "      <td>แผนสกัดหวัดนกระบาดคนสู่คน</td>\n",
       "      <td>โรคระบาด</td>\n",
       "    </tr>\n",
       "  </tbody>\n",
       "</table>\n",
       "</div>"
      ],
      "text/plain": [
       "        date                                           headline     label\n",
       "0   1/6/2006                             delhinottopofhivleague  โรคระบาด\n",
       "1   1/6/2006  หวัดนกลามไม่เลิกอิเหนาตายอีกเจ้าหน้าที่ถกเครีย...  โรคระบาด\n",
       "2   1/6/2006                       diseasespreadsinburmavietnam  โรคระบาด\n",
       "3   1/6/2006                              เฝ้าระวังหวัดนกคืนชีพ  โรคระบาด\n",
       "5   1/6/2006  กรมวิทย์หนุนไบโอเทควิจัยโรคอุบัติเหตุใหม่เป้าแ...  โรคระบาด\n",
       "6   1/6/2006             จอดป้ายประชาชื่นหวัดนกหวัดใหญ่วัคซีนจบ  โรคระบาด\n",
       "7   1/6/2006              ปรับแผนสกัดหวัดนกจี้โรชส่งทามิฟลู24ชม  โรคระบาด\n",
       "8   1/6/2006           thailandaxeshumanvaccinetrialplannedwith  โรคระบาด\n",
       "9   1/6/2006  ยูเอ็นห่วงภาวะเอดส์เอเชียอินเดียยอดพุ่งแซงแอฟริกา  โรคระบาด\n",
       "11  2/6/2006                          แผนสกัดหวัดนกระบาดคนสู่คน  โรคระบาด"
      ]
     },
     "execution_count": 17,
     "metadata": {
      "tags": []
     },
     "output_type": "execute_result"
    }
   ],
   "source": [
    "# checking out 'โรคระบาด' from the dataset\n",
    "df[df['label'] == 'โรคระบาด'].head(10)"
   ]
  },
  {
   "cell_type": "code",
   "execution_count": 0,
   "metadata": {
    "colab": {
     "base_uri": "https://localhost:8080/",
     "height": 264
    },
    "colab_type": "code",
    "executionInfo": {
     "elapsed": 2133,
     "status": "ok",
     "timestamp": 1588901412540,
     "user": {
      "displayName": "Natawat Sirichaitayakul",
      "photoUrl": "",
      "userId": "10237147463727492124"
     },
     "user_tz": -420
    },
    "id": "BT55VdP46wKx",
    "outputId": "05105628-af74-4993-c5f3-9014d1392495"
   },
   "outputs": [
    {
     "data": {
      "image/png": "[encoded data removed]",
      "text/plain": [
       "<Figure size 504x288 with 1 Axes>"
      ]
     },
     "metadata": {
      "needs_background": "light",
      "tags": []
     },
     "output_type": "display_data"
    }
   ],
   "source": [
    "# show distribution of the length of sentence in headline column\n",
    "length_df = df['headline'].str.len().plot.hist(color = 'black', figsize = (7, 4))"
   ]
  },
  {
   "cell_type": "code",
   "execution_count": 0,
   "metadata": {
    "colab": {
     "base_uri": "https://localhost:8080/",
     "height": 467
    },
    "colab_type": "code",
    "executionInfo": {
     "elapsed": 1480,
     "status": "ok",
     "timestamp": 1588901416643,
     "user": {
      "displayName": "Natawat Sirichaitayakul",
      "photoUrl": "",
      "userId": "10237147463727492124"
     },
     "user_tz": -420
    },
    "id": "bh2Pypk366FF",
    "outputId": "5ab13e3d-38d1-4756-c1a9-59a3499f9e25"
   },
   "outputs": [
    {
     "name": "stderr",
     "output_type": "stream",
     "text": [
      "/usr/local/lib/python3.6/dist-packages/ipykernel_launcher.py:1: SettingWithCopyWarning: \n",
      "A value is trying to be set on a copy of a slice from a DataFrame.\n",
      "Try using .loc[row_indexer,col_indexer] = value instead\n",
      "\n",
      "See the caveats in the documentation: https://pandas.pydata.org/pandas-docs/stable/user_guide/indexing.html#returning-a-view-versus-a-copy\n",
      "  \"\"\"Entry point for launching an IPython kernel.\n"
     ]
    },
    {
     "data": {
      "text/html": [
       "<div>\n",
       "<style scoped>\n",
       "    .dataframe tbody tr th:only-of-type {\n",
       "        vertical-align: middle;\n",
       "    }\n",
       "\n",
       "    .dataframe tbody tr th {\n",
       "        vertical-align: top;\n",
       "    }\n",
       "\n",
       "    .dataframe thead th {\n",
       "        text-align: right;\n",
       "    }\n",
       "</style>\n",
       "<table border=\"1\" class=\"dataframe\">\n",
       "  <thead>\n",
       "    <tr style=\"text-align: right;\">\n",
       "      <th></th>\n",
       "      <th>date</th>\n",
       "      <th>headline</th>\n",
       "      <th>label</th>\n",
       "      <th>len</th>\n",
       "    </tr>\n",
       "  </thead>\n",
       "  <tbody>\n",
       "    <tr>\n",
       "      <th>0</th>\n",
       "      <td>1/6/2006</td>\n",
       "      <td>เกาะติดเศรษฐกิจการเงินน้ำมันแพงเกี่ยวข้องกับค่า</td>\n",
       "      <td>น้ำมัน</td>\n",
       "      <td>47</td>\n",
       "    </tr>\n",
       "    <tr>\n",
       "      <th>1</th>\n",
       "      <td>1/6/2006</td>\n",
       "      <td>มิยคนไทยซดน้ำมันแพงวเศษรับไม่ต่ำกว่า30บลิตร</td>\n",
       "      <td>น้ำมัน</td>\n",
       "      <td>43</td>\n",
       "    </tr>\n",
       "    <tr>\n",
       "      <th>2</th>\n",
       "      <td>1/6/2006</td>\n",
       "      <td>ต่างชาติถล่มขายหุ้นเครือปตทมาร์เก็ตแคปพคหายแสน...</td>\n",
       "      <td>น้ำมัน</td>\n",
       "      <td>50</td>\n",
       "    </tr>\n",
       "    <tr>\n",
       "      <th>3</th>\n",
       "      <td>1/6/2006</td>\n",
       "      <td>หน้า24</td>\n",
       "      <td>น้ำมัน</td>\n",
       "      <td>6</td>\n",
       "    </tr>\n",
       "    <tr>\n",
       "      <th>4</th>\n",
       "      <td>1/6/2006</td>\n",
       "      <td>คาดโอเปคไม่ผลิตเพิ่มหวั่นน้ำมันราคาพุ่งยันปริม...</td>\n",
       "      <td>น้ำมัน</td>\n",
       "      <td>59</td>\n",
       "    </tr>\n",
       "    <tr>\n",
       "      <th>5</th>\n",
       "      <td>1/6/2006</td>\n",
       "      <td>พิรุธขาใหญ่ทิ้ง</td>\n",
       "      <td>น้ำมัน</td>\n",
       "      <td>15</td>\n",
       "    </tr>\n",
       "    <tr>\n",
       "      <th>6</th>\n",
       "      <td>1/6/2006</td>\n",
       "      <td>ปฏิทินธุรกิจ</td>\n",
       "      <td>น้ำมัน</td>\n",
       "      <td>12</td>\n",
       "    </tr>\n",
       "    <tr>\n",
       "      <th>7</th>\n",
       "      <td>1/6/2006</td>\n",
       "      <td>สศกคาดผลไม้ปี49ล้านตลาดพิษน้ำมันส่งผลกำลังซื้อ...</td>\n",
       "      <td>น้ำมัน</td>\n",
       "      <td>50</td>\n",
       "    </tr>\n",
       "    <tr>\n",
       "      <th>8</th>\n",
       "      <td>1/6/2006</td>\n",
       "      <td>ข่าวบริษัทจดทะเบียน</td>\n",
       "      <td>น้ำมัน</td>\n",
       "      <td>19</td>\n",
       "    </tr>\n",
       "    <tr>\n",
       "      <th>9</th>\n",
       "      <td>1/6/2006</td>\n",
       "      <td>stanlyกัดฟันรักษายอดโต10โชว์โมเดลใหม่เพิ่มมูลค...</td>\n",
       "      <td>น้ำมัน</td>\n",
       "      <td>54</td>\n",
       "    </tr>\n",
       "  </tbody>\n",
       "</table>\n",
       "</div>"
      ],
      "text/plain": [
       "       date                                           headline   label  len\n",
       "0  1/6/2006    เกาะติดเศรษฐกิจการเงินน้ำมันแพงเกี่ยวข้องกับค่า  น้ำมัน   47\n",
       "1  1/6/2006        มิยคนไทยซดน้ำมันแพงวเศษรับไม่ต่ำกว่า30บลิตร  น้ำมัน   43\n",
       "2  1/6/2006  ต่างชาติถล่มขายหุ้นเครือปตทมาร์เก็ตแคปพคหายแสน...  น้ำมัน   50\n",
       "3  1/6/2006                                             หน้า24  น้ำมัน    6\n",
       "4  1/6/2006  คาดโอเปคไม่ผลิตเพิ่มหวั่นน้ำมันราคาพุ่งยันปริม...  น้ำมัน   59\n",
       "5  1/6/2006                                    พิรุธขาใหญ่ทิ้ง  น้ำมัน   15\n",
       "6  1/6/2006                                       ปฏิทินธุรกิจ  น้ำมัน   12\n",
       "7  1/6/2006  สศกคาดผลไม้ปี49ล้านตลาดพิษน้ำมันส่งผลกำลังซื้อ...  น้ำมัน   50\n",
       "8  1/6/2006                                ข่าวบริษัทจดทะเบียน  น้ำมัน   19\n",
       "9  1/6/2006  stanlyกัดฟันรักษายอดโต10โชว์โมเดลใหม่เพิ่มมูลค...  น้ำมัน   54"
      ]
     },
     "execution_count": 19,
     "metadata": {
      "tags": []
     },
     "output_type": "execute_result"
    }
   ],
   "source": [
    "# adding a column to represent the length of the headline\n",
    "df['len'] = df['headline'].str.len()\n",
    "df.head(10)"
   ]
  },
  {
   "cell_type": "code",
   "execution_count": 0,
   "metadata": {
    "colab": {
     "base_uri": "https://localhost:8080/",
     "height": 394
    },
    "colab_type": "code",
    "executionInfo": {
     "elapsed": 1605,
     "status": "ok",
     "timestamp": 1588901421382,
     "user": {
      "displayName": "Natawat Sirichaitayakul",
      "photoUrl": "",
      "userId": "10237147463727492124"
     },
     "user_tz": -420
    },
    "id": "lZjCNv2Q6-DM",
    "outputId": "37a9c32f-5581-4520-fd95-62c86d3c1702"
   },
   "outputs": [
    {
     "data": {
      "text/html": [
       "<div>\n",
       "<style scoped>\n",
       "    .dataframe tbody tr th:only-of-type {\n",
       "        vertical-align: middle;\n",
       "    }\n",
       "\n",
       "    .dataframe tbody tr th {\n",
       "        vertical-align: top;\n",
       "    }\n",
       "\n",
       "    .dataframe thead tr th {\n",
       "        text-align: left;\n",
       "    }\n",
       "\n",
       "    .dataframe thead tr:last-of-type th {\n",
       "        text-align: right;\n",
       "    }\n",
       "</style>\n",
       "<table border=\"1\" class=\"dataframe\">\n",
       "  <thead>\n",
       "    <tr>\n",
       "      <th></th>\n",
       "      <th colspan=\"8\" halign=\"left\">len</th>\n",
       "    </tr>\n",
       "    <tr>\n",
       "      <th></th>\n",
       "      <th>count</th>\n",
       "      <th>mean</th>\n",
       "      <th>std</th>\n",
       "      <th>min</th>\n",
       "      <th>25%</th>\n",
       "      <th>50%</th>\n",
       "      <th>75%</th>\n",
       "      <th>max</th>\n",
       "    </tr>\n",
       "    <tr>\n",
       "      <th>label</th>\n",
       "      <th></th>\n",
       "      <th></th>\n",
       "      <th></th>\n",
       "      <th></th>\n",
       "      <th></th>\n",
       "      <th></th>\n",
       "      <th></th>\n",
       "      <th></th>\n",
       "    </tr>\n",
       "  </thead>\n",
       "  <tbody>\n",
       "    <tr>\n",
       "      <th>การบิน</th>\n",
       "      <td>148883.0</td>\n",
       "      <td>36.327089</td>\n",
       "      <td>11.851621</td>\n",
       "      <td>0.0</td>\n",
       "      <td>28.0</td>\n",
       "      <td>36.0</td>\n",
       "      <td>45.0</td>\n",
       "      <td>60.0</td>\n",
       "    </tr>\n",
       "    <tr>\n",
       "      <th>ธนาคาร</th>\n",
       "      <td>399810.0</td>\n",
       "      <td>37.585331</td>\n",
       "      <td>12.041438</td>\n",
       "      <td>0.0</td>\n",
       "      <td>28.0</td>\n",
       "      <td>38.0</td>\n",
       "      <td>47.0</td>\n",
       "      <td>60.0</td>\n",
       "    </tr>\n",
       "    <tr>\n",
       "      <th>ธุรกิจค้าปลีก</th>\n",
       "      <td>160947.0</td>\n",
       "      <td>36.048724</td>\n",
       "      <td>12.621456</td>\n",
       "      <td>0.0</td>\n",
       "      <td>26.0</td>\n",
       "      <td>36.0</td>\n",
       "      <td>46.0</td>\n",
       "      <td>60.0</td>\n",
       "    </tr>\n",
       "    <tr>\n",
       "      <th>น้ำมัน</th>\n",
       "      <td>172293.0</td>\n",
       "      <td>37.238588</td>\n",
       "      <td>12.613652</td>\n",
       "      <td>0.0</td>\n",
       "      <td>28.0</td>\n",
       "      <td>38.0</td>\n",
       "      <td>48.0</td>\n",
       "      <td>60.0</td>\n",
       "    </tr>\n",
       "    <tr>\n",
       "      <th>พลังงานไฟฟ้า</th>\n",
       "      <td>87202.0</td>\n",
       "      <td>38.331770</td>\n",
       "      <td>12.147930</td>\n",
       "      <td>3.0</td>\n",
       "      <td>29.0</td>\n",
       "      <td>39.0</td>\n",
       "      <td>48.0</td>\n",
       "      <td>60.0</td>\n",
       "    </tr>\n",
       "    <tr>\n",
       "      <th>ภัยพิบัติ</th>\n",
       "      <td>87587.0</td>\n",
       "      <td>35.451951</td>\n",
       "      <td>12.244585</td>\n",
       "      <td>0.0</td>\n",
       "      <td>27.0</td>\n",
       "      <td>35.0</td>\n",
       "      <td>44.0</td>\n",
       "      <td>60.0</td>\n",
       "    </tr>\n",
       "    <tr>\n",
       "      <th>สงคราม</th>\n",
       "      <td>161721.0</td>\n",
       "      <td>35.784672</td>\n",
       "      <td>11.012575</td>\n",
       "      <td>2.0</td>\n",
       "      <td>28.0</td>\n",
       "      <td>35.0</td>\n",
       "      <td>43.0</td>\n",
       "      <td>60.0</td>\n",
       "    </tr>\n",
       "    <tr>\n",
       "      <th>อสังหา</th>\n",
       "      <td>271881.0</td>\n",
       "      <td>37.734891</td>\n",
       "      <td>11.954306</td>\n",
       "      <td>1.0</td>\n",
       "      <td>29.0</td>\n",
       "      <td>38.0</td>\n",
       "      <td>47.0</td>\n",
       "      <td>60.0</td>\n",
       "    </tr>\n",
       "    <tr>\n",
       "      <th>โรคระบาด</th>\n",
       "      <td>34964.0</td>\n",
       "      <td>36.862687</td>\n",
       "      <td>11.389445</td>\n",
       "      <td>2.0</td>\n",
       "      <td>29.0</td>\n",
       "      <td>36.0</td>\n",
       "      <td>45.0</td>\n",
       "      <td>60.0</td>\n",
       "    </tr>\n",
       "  </tbody>\n",
       "</table>\n",
       "</div>"
      ],
      "text/plain": [
       "                    len                                                   \n",
       "                  count       mean        std  min   25%   50%   75%   max\n",
       "label                                                                     \n",
       "การบิน         148883.0  36.327089  11.851621  0.0  28.0  36.0  45.0  60.0\n",
       "ธนาคาร         399810.0  37.585331  12.041438  0.0  28.0  38.0  47.0  60.0\n",
       "ธุรกิจค้าปลีก  160947.0  36.048724  12.621456  0.0  26.0  36.0  46.0  60.0\n",
       "น้ำมัน         172293.0  37.238588  12.613652  0.0  28.0  38.0  48.0  60.0\n",
       "พลังงานไฟฟ้า    87202.0  38.331770  12.147930  3.0  29.0  39.0  48.0  60.0\n",
       "ภัยพิบัติ       87587.0  35.451951  12.244585  0.0  27.0  35.0  44.0  60.0\n",
       "สงคราม         161721.0  35.784672  11.012575  2.0  28.0  35.0  43.0  60.0\n",
       "อสังหา         271881.0  37.734891  11.954306  1.0  29.0  38.0  47.0  60.0\n",
       "โรคระบาด        34964.0  36.862687  11.389445  2.0  29.0  36.0  45.0  60.0"
      ]
     },
     "execution_count": 20,
     "metadata": {
      "tags": []
     },
     "output_type": "execute_result"
    }
   ],
   "source": [
    "df.groupby('label').describe()"
   ]
  },
  {
   "cell_type": "code",
   "execution_count": 0,
   "metadata": {
    "colab": {
     "base_uri": "https://localhost:8080/",
     "height": 34
    },
    "colab_type": "code",
    "executionInfo": {
     "elapsed": 1405,
     "status": "ok",
     "timestamp": 1588901731319,
     "user": {
      "displayName": "Natawat Sirichaitayakul",
      "photoUrl": "",
      "userId": "10237147463727492124"
     },
     "user_tz": -420
    },
    "id": "NfDnNRmz6Iwn",
    "outputId": "3754606a-93c3-4d63-f838-df8794b87bb7"
   },
   "outputs": [
    {
     "name": "stdout",
     "output_type": "stream",
     "text": [
      "135024\n"
     ]
    }
   ],
   "source": [
    "# count data that len < 20\n",
    "low_len_df = df[df[\"len\"] <= 20]\n",
    "print(len(low_len_df.index))"
   ]
  },
  {
   "cell_type": "code",
   "execution_count": 0,
   "metadata": {
    "colab": {},
    "colab_type": "code",
    "id": "sNki2H_r7Bco"
   },
   "outputs": [],
   "source": [
    "# Delete df[df[\"len\"] <= 20]\n",
    "df = df[df[\"len\"] > 20]"
   ]
  },
  {
   "cell_type": "code",
   "execution_count": 0,
   "metadata": {
    "colab": {
     "base_uri": "https://localhost:8080/",
     "height": 34
    },
    "colab_type": "code",
    "executionInfo": {
     "elapsed": 10327,
     "status": "ok",
     "timestamp": 1588902088270,
     "user": {
      "displayName": "Natawat Sirichaitayakul",
      "photoUrl": "",
      "userId": "10237147463727492124"
     },
     "user_tz": -420
    },
    "id": "33IyaKckcfwM",
    "outputId": "302355f4-9b2f-4a3e-bd2c-84db9d18ea96"
   },
   "outputs": [
    {
     "data": {
      "text/plain": [
       "'/device:GPU:0'"
      ]
     },
     "execution_count": 27,
     "metadata": {
      "tags": []
     },
     "output_type": "execute_result"
    }
   ],
   "source": [
    "# used GPU\n",
    "import tensorflow as tf\n",
    "tf.test.gpu_device_name()"
   ]
  },
  {
   "cell_type": "code",
   "execution_count": 0,
   "metadata": {
    "colab": {
     "base_uri": "https://localhost:8080/",
     "height": 571
    },
    "colab_type": "code",
    "executionInfo": {
     "elapsed": 9097923,
     "status": "ok",
     "timestamp": 1588913499305,
     "user": {
      "displayName": "Natawat Sirichaitayakul",
      "photoUrl": "",
      "userId": "10237147463727492124"
     },
     "user_tz": -420
    },
    "id": "IUQtgVfm7HjE",
    "outputId": "83d7f510-56a1-4000-8b6c-5874999b58dc"
   },
   "outputs": [
    {
     "name": "stderr",
     "output_type": "stream",
     "text": [
      "/usr/local/lib/python3.6/dist-packages/ipykernel_launcher.py:1: SettingWithCopyWarning: \n",
      "A value is trying to be set on a copy of a slice from a DataFrame.\n",
      "Try using .loc[row_indexer,col_indexer] = value instead\n",
      "\n",
      "See the caveats in the documentation: https://pandas.pydata.org/pandas-docs/stable/user_guide/indexing.html#returning-a-view-versus-a-copy\n",
      "  \"\"\"Entry point for launching an IPython kernel.\n",
      "/usr/local/lib/python3.6/dist-packages/ipykernel_launcher.py:2: SettingWithCopyWarning: \n",
      "A value is trying to be set on a copy of a slice from a DataFrame.\n",
      "Try using .loc[row_indexer,col_indexer] = value instead\n",
      "\n",
      "See the caveats in the documentation: https://pandas.pydata.org/pandas-docs/stable/user_guide/indexing.html#returning-a-view-versus-a-copy\n",
      "  \n"
     ]
    },
    {
     "data": {
      "text/html": [
       "<div>\n",
       "<style scoped>\n",
       "    .dataframe tbody tr th:only-of-type {\n",
       "        vertical-align: middle;\n",
       "    }\n",
       "\n",
       "    .dataframe tbody tr th {\n",
       "        vertical-align: top;\n",
       "    }\n",
       "\n",
       "    .dataframe thead th {\n",
       "        text-align: right;\n",
       "    }\n",
       "</style>\n",
       "<table border=\"1\" class=\"dataframe\">\n",
       "  <thead>\n",
       "    <tr style=\"text-align: right;\">\n",
       "      <th></th>\n",
       "      <th>date</th>\n",
       "      <th>headline</th>\n",
       "      <th>label</th>\n",
       "      <th>len</th>\n",
       "      <th>token</th>\n",
       "      <th>wc</th>\n",
       "    </tr>\n",
       "  </thead>\n",
       "  <tbody>\n",
       "    <tr>\n",
       "      <th>0</th>\n",
       "      <td>1/6/2006</td>\n",
       "      <td>เกาะติดเศรษฐกิจการเงินน้ำมันแพงเกี่ยวข้องกับค่า</td>\n",
       "      <td>น้ำมัน</td>\n",
       "      <td>47</td>\n",
       "      <td>[เกาะติด, เศรษฐกิจ, การ, เงิน, น้ำมัน, แพง, เก...</td>\n",
       "      <td>9</td>\n",
       "    </tr>\n",
       "    <tr>\n",
       "      <th>1</th>\n",
       "      <td>1/6/2006</td>\n",
       "      <td>มิยคนไทยซดน้ำมันแพงวเศษรับไม่ต่ำกว่า30บลิตร</td>\n",
       "      <td>น้ำมัน</td>\n",
       "      <td>43</td>\n",
       "      <td>[มิย, คน, ไทย, ซด, น้ำมัน, แพงว, เศษ, รับ, ไม่...</td>\n",
       "      <td>14</td>\n",
       "    </tr>\n",
       "    <tr>\n",
       "      <th>2</th>\n",
       "      <td>1/6/2006</td>\n",
       "      <td>ต่างชาติถล่มขายหุ้นเครือปตทมาร์เก็ตแคปพคหายแสน...</td>\n",
       "      <td>น้ำมัน</td>\n",
       "      <td>50</td>\n",
       "      <td>[ต่าง, ชาติ, ถล่ม, ขาย, หุ้น, เครือปตทมาร์เก็ต...</td>\n",
       "      <td>9</td>\n",
       "    </tr>\n",
       "    <tr>\n",
       "      <th>4</th>\n",
       "      <td>1/6/2006</td>\n",
       "      <td>คาดโอเปคไม่ผลิตเพิ่มหวั่นน้ำมันราคาพุ่งยันปริม...</td>\n",
       "      <td>น้ำมัน</td>\n",
       "      <td>59</td>\n",
       "      <td>[คาด, โอเปค, ไม่, ผลิต, เพิ่ม, หวั่น, น้ำมัน, ...</td>\n",
       "      <td>14</td>\n",
       "    </tr>\n",
       "    <tr>\n",
       "      <th>7</th>\n",
       "      <td>1/6/2006</td>\n",
       "      <td>สศกคาดผลไม้ปี49ล้านตลาดพิษน้ำมันส่งผลกำลังซื้อ...</td>\n",
       "      <td>น้ำมัน</td>\n",
       "      <td>50</td>\n",
       "      <td>[สศก, คาด, ผลไม้, ปี49, ล้านตลาด, พิษ, น้ำมัน,...</td>\n",
       "      <td>13</td>\n",
       "    </tr>\n",
       "    <tr>\n",
       "      <th>9</th>\n",
       "      <td>1/6/2006</td>\n",
       "      <td>stanlyกัดฟันรักษายอดโต10โชว์โมเดลใหม่เพิ่มมูลค...</td>\n",
       "      <td>น้ำมัน</td>\n",
       "      <td>54</td>\n",
       "      <td>[stanlyกัดฟัน, รักษา, ยอดโต10โชว์โมเดล, ใหม่, ...</td>\n",
       "      <td>7</td>\n",
       "    </tr>\n",
       "    <tr>\n",
       "      <th>10</th>\n",
       "      <td>1/6/2006</td>\n",
       "      <td>petroltoriseover30baht</td>\n",
       "      <td>น้ำมัน</td>\n",
       "      <td>22</td>\n",
       "      <td>[petroltoriseover30baht]</td>\n",
       "      <td>1</td>\n",
       "    </tr>\n",
       "    <tr>\n",
       "      <th>11</th>\n",
       "      <td>1/6/2006</td>\n",
       "      <td>คัมภีร์หุ้นใจเย็นๆเน้นตั้งรับ</td>\n",
       "      <td>น้ำมัน</td>\n",
       "      <td>29</td>\n",
       "      <td>[คัมภีร์, หุ้นใจเย็น, ๆ, เน้น, ตั้ง, รับ]</td>\n",
       "      <td>6</td>\n",
       "    </tr>\n",
       "    <tr>\n",
       "      <th>12</th>\n",
       "      <td>1/6/2006</td>\n",
       "      <td>รัฐบาลงัดทุกเม็ดกระตุ้นยอดใช้ngvดันแผนช่วยรถร่...</td>\n",
       "      <td>น้ำมัน</td>\n",
       "      <td>51</td>\n",
       "      <td>[รัฐบาล, งัด, ทุก, เม็ด, กระตุ้น, ยอด, ใช้, ng...</td>\n",
       "      <td>12</td>\n",
       "    </tr>\n",
       "    <tr>\n",
       "      <th>13</th>\n",
       "      <td>1/6/2006</td>\n",
       "      <td>rrcเข้าซื้อขายจะเป็นอย่างไร</td>\n",
       "      <td>น้ำมัน</td>\n",
       "      <td>27</td>\n",
       "      <td>[rrc, เข้า, ซื้อขาย, จะ, เป็น, อย่าง, ไร]</td>\n",
       "      <td>7</td>\n",
       "    </tr>\n",
       "  </tbody>\n",
       "</table>\n",
       "</div>"
      ],
      "text/plain": [
       "        date  ...  wc\n",
       "0   1/6/2006  ...   9\n",
       "1   1/6/2006  ...  14\n",
       "2   1/6/2006  ...   9\n",
       "4   1/6/2006  ...  14\n",
       "7   1/6/2006  ...  13\n",
       "9   1/6/2006  ...   7\n",
       "10  1/6/2006  ...   1\n",
       "11  1/6/2006  ...   6\n",
       "12  1/6/2006  ...  12\n",
       "13  1/6/2006  ...   7\n",
       "\n",
       "[10 rows x 6 columns]"
      ]
     },
     "execution_count": 28,
     "metadata": {
      "tags": []
     },
     "output_type": "execute_result"
    }
   ],
   "source": [
    "# adding a column to represent token of the headline\n",
    "df['token'] = df['headline'].apply(word_tokenize, engine=\"attacut\")\n",
    "df['wc'] = df['token'].str.len()\n",
    "df.head(10)"
   ]
  },
  {
   "cell_type": "code",
   "execution_count": 0,
   "metadata": {
    "colab": {
     "base_uri": "https://localhost:8080/",
     "height": 394
    },
    "colab_type": "code",
    "executionInfo": {
     "elapsed": 1192,
     "status": "ok",
     "timestamp": 1588913500484,
     "user": {
      "displayName": "Natawat Sirichaitayakul",
      "photoUrl": "",
      "userId": "10237147463727492124"
     },
     "user_tz": -420
    },
    "id": "N_bQRbBp7cG1",
    "outputId": "c1a258c4-6e1a-4717-9461-90dffb19b364"
   },
   "outputs": [
    {
     "data": {
      "text/html": [
       "<div>\n",
       "<style scoped>\n",
       "    .dataframe tbody tr th:only-of-type {\n",
       "        vertical-align: middle;\n",
       "    }\n",
       "\n",
       "    .dataframe tbody tr th {\n",
       "        vertical-align: top;\n",
       "    }\n",
       "\n",
       "    .dataframe thead tr th {\n",
       "        text-align: left;\n",
       "    }\n",
       "\n",
       "    .dataframe thead tr:last-of-type th {\n",
       "        text-align: right;\n",
       "    }\n",
       "</style>\n",
       "<table border=\"1\" class=\"dataframe\">\n",
       "  <thead>\n",
       "    <tr>\n",
       "      <th></th>\n",
       "      <th colspan=\"8\" halign=\"left\">len</th>\n",
       "      <th colspan=\"8\" halign=\"left\">wc</th>\n",
       "    </tr>\n",
       "    <tr>\n",
       "      <th></th>\n",
       "      <th>count</th>\n",
       "      <th>mean</th>\n",
       "      <th>std</th>\n",
       "      <th>min</th>\n",
       "      <th>25%</th>\n",
       "      <th>50%</th>\n",
       "      <th>75%</th>\n",
       "      <th>max</th>\n",
       "      <th>count</th>\n",
       "      <th>mean</th>\n",
       "      <th>std</th>\n",
       "      <th>min</th>\n",
       "      <th>25%</th>\n",
       "      <th>50%</th>\n",
       "      <th>75%</th>\n",
       "      <th>max</th>\n",
       "    </tr>\n",
       "    <tr>\n",
       "      <th>label</th>\n",
       "      <th></th>\n",
       "      <th></th>\n",
       "      <th></th>\n",
       "      <th></th>\n",
       "      <th></th>\n",
       "      <th></th>\n",
       "      <th></th>\n",
       "      <th></th>\n",
       "      <th></th>\n",
       "      <th></th>\n",
       "      <th></th>\n",
       "      <th></th>\n",
       "      <th></th>\n",
       "      <th></th>\n",
       "      <th></th>\n",
       "      <th></th>\n",
       "    </tr>\n",
       "  </thead>\n",
       "  <tbody>\n",
       "    <tr>\n",
       "      <th>การบิน</th>\n",
       "      <td>135353.0</td>\n",
       "      <td>38.483728</td>\n",
       "      <td>10.073300</td>\n",
       "      <td>21.0</td>\n",
       "      <td>30.0</td>\n",
       "      <td>38.0</td>\n",
       "      <td>46.0</td>\n",
       "      <td>60.0</td>\n",
       "      <td>135353.0</td>\n",
       "      <td>6.541665</td>\n",
       "      <td>3.780191</td>\n",
       "      <td>1.0</td>\n",
       "      <td>4.0</td>\n",
       "      <td>7.0</td>\n",
       "      <td>9.0</td>\n",
       "      <td>19.0</td>\n",
       "    </tr>\n",
       "    <tr>\n",
       "      <th>ธนาคาร</th>\n",
       "      <td>366106.0</td>\n",
       "      <td>39.624849</td>\n",
       "      <td>10.375452</td>\n",
       "      <td>21.0</td>\n",
       "      <td>31.0</td>\n",
       "      <td>39.0</td>\n",
       "      <td>48.0</td>\n",
       "      <td>60.0</td>\n",
       "      <td>366106.0</td>\n",
       "      <td>7.558254</td>\n",
       "      <td>3.745118</td>\n",
       "      <td>1.0</td>\n",
       "      <td>5.0</td>\n",
       "      <td>8.0</td>\n",
       "      <td>10.0</td>\n",
       "      <td>20.0</td>\n",
       "    </tr>\n",
       "    <tr>\n",
       "      <th>ธุรกิจค้าปลีก</th>\n",
       "      <td>141521.0</td>\n",
       "      <td>38.928675</td>\n",
       "      <td>10.500901</td>\n",
       "      <td>21.0</td>\n",
       "      <td>30.0</td>\n",
       "      <td>39.0</td>\n",
       "      <td>48.0</td>\n",
       "      <td>60.0</td>\n",
       "      <td>141521.0</td>\n",
       "      <td>7.286473</td>\n",
       "      <td>3.509295</td>\n",
       "      <td>1.0</td>\n",
       "      <td>5.0</td>\n",
       "      <td>7.0</td>\n",
       "      <td>10.0</td>\n",
       "      <td>19.0</td>\n",
       "    </tr>\n",
       "    <tr>\n",
       "      <th>น้ำมัน</th>\n",
       "      <td>154676.0</td>\n",
       "      <td>39.802762</td>\n",
       "      <td>10.532252</td>\n",
       "      <td>21.0</td>\n",
       "      <td>31.0</td>\n",
       "      <td>40.0</td>\n",
       "      <td>49.0</td>\n",
       "      <td>60.0</td>\n",
       "      <td>154676.0</td>\n",
       "      <td>7.733372</td>\n",
       "      <td>3.692479</td>\n",
       "      <td>1.0</td>\n",
       "      <td>5.0</td>\n",
       "      <td>8.0</td>\n",
       "      <td>10.0</td>\n",
       "      <td>20.0</td>\n",
       "    </tr>\n",
       "    <tr>\n",
       "      <th>พลังงานไฟฟ้า</th>\n",
       "      <td>80016.0</td>\n",
       "      <td>40.412967</td>\n",
       "      <td>10.333841</td>\n",
       "      <td>21.0</td>\n",
       "      <td>32.0</td>\n",
       "      <td>41.0</td>\n",
       "      <td>49.0</td>\n",
       "      <td>60.0</td>\n",
       "      <td>80016.0</td>\n",
       "      <td>7.727554</td>\n",
       "      <td>3.531968</td>\n",
       "      <td>1.0</td>\n",
       "      <td>6.0</td>\n",
       "      <td>8.0</td>\n",
       "      <td>10.0</td>\n",
       "      <td>21.0</td>\n",
       "    </tr>\n",
       "    <tr>\n",
       "      <th>ภัยพิบัติ</th>\n",
       "      <td>79163.0</td>\n",
       "      <td>37.791039</td>\n",
       "      <td>10.330659</td>\n",
       "      <td>21.0</td>\n",
       "      <td>29.0</td>\n",
       "      <td>36.0</td>\n",
       "      <td>46.0</td>\n",
       "      <td>60.0</td>\n",
       "      <td>79163.0</td>\n",
       "      <td>7.438778</td>\n",
       "      <td>3.768489</td>\n",
       "      <td>1.0</td>\n",
       "      <td>5.0</td>\n",
       "      <td>8.0</td>\n",
       "      <td>10.0</td>\n",
       "      <td>20.0</td>\n",
       "    </tr>\n",
       "    <tr>\n",
       "      <th>สงคราม</th>\n",
       "      <td>151505.0</td>\n",
       "      <td>37.226138</td>\n",
       "      <td>9.755307</td>\n",
       "      <td>21.0</td>\n",
       "      <td>29.0</td>\n",
       "      <td>36.0</td>\n",
       "      <td>44.0</td>\n",
       "      <td>60.0</td>\n",
       "      <td>151505.0</td>\n",
       "      <td>6.892228</td>\n",
       "      <td>4.132529</td>\n",
       "      <td>1.0</td>\n",
       "      <td>4.0</td>\n",
       "      <td>7.0</td>\n",
       "      <td>10.0</td>\n",
       "      <td>21.0</td>\n",
       "    </tr>\n",
       "    <tr>\n",
       "      <th>อสังหา</th>\n",
       "      <td>249139.0</td>\n",
       "      <td>39.779139</td>\n",
       "      <td>10.227427</td>\n",
       "      <td>21.0</td>\n",
       "      <td>31.0</td>\n",
       "      <td>40.0</td>\n",
       "      <td>48.0</td>\n",
       "      <td>60.0</td>\n",
       "      <td>249139.0</td>\n",
       "      <td>7.280129</td>\n",
       "      <td>3.696991</td>\n",
       "      <td>1.0</td>\n",
       "      <td>5.0</td>\n",
       "      <td>7.0</td>\n",
       "      <td>10.0</td>\n",
       "      <td>20.0</td>\n",
       "    </tr>\n",
       "    <tr>\n",
       "      <th>โรคระบาด</th>\n",
       "      <td>32785.0</td>\n",
       "      <td>38.317615</td>\n",
       "      <td>10.159021</td>\n",
       "      <td>21.0</td>\n",
       "      <td>30.0</td>\n",
       "      <td>37.0</td>\n",
       "      <td>46.0</td>\n",
       "      <td>60.0</td>\n",
       "      <td>32785.0</td>\n",
       "      <td>8.033613</td>\n",
       "      <td>3.750894</td>\n",
       "      <td>1.0</td>\n",
       "      <td>6.0</td>\n",
       "      <td>8.0</td>\n",
       "      <td>11.0</td>\n",
       "      <td>19.0</td>\n",
       "    </tr>\n",
       "  </tbody>\n",
       "</table>\n",
       "</div>"
      ],
      "text/plain": [
       "                    len                              ...   wc                 \n",
       "                  count       mean        std   min  ...  25%  50%   75%   max\n",
       "label                                                ...                      \n",
       "การบิน         135353.0  38.483728  10.073300  21.0  ...  4.0  7.0   9.0  19.0\n",
       "ธนาคาร         366106.0  39.624849  10.375452  21.0  ...  5.0  8.0  10.0  20.0\n",
       "ธุรกิจค้าปลีก  141521.0  38.928675  10.500901  21.0  ...  5.0  7.0  10.0  19.0\n",
       "น้ำมัน         154676.0  39.802762  10.532252  21.0  ...  5.0  8.0  10.0  20.0\n",
       "พลังงานไฟฟ้า    80016.0  40.412967  10.333841  21.0  ...  6.0  8.0  10.0  21.0\n",
       "ภัยพิบัติ       79163.0  37.791039  10.330659  21.0  ...  5.0  8.0  10.0  20.0\n",
       "สงคราม         151505.0  37.226138   9.755307  21.0  ...  4.0  7.0  10.0  21.0\n",
       "อสังหา         249139.0  39.779139  10.227427  21.0  ...  5.0  7.0  10.0  20.0\n",
       "โรคระบาด        32785.0  38.317615  10.159021  21.0  ...  6.0  8.0  11.0  19.0\n",
       "\n",
       "[9 rows x 16 columns]"
      ]
     },
     "execution_count": 29,
     "metadata": {
      "tags": []
     },
     "output_type": "execute_result"
    }
   ],
   "source": [
    "df.groupby('label').describe()"
   ]
  },
  {
   "cell_type": "code",
   "execution_count": 0,
   "metadata": {
    "colab": {},
    "colab_type": "code",
    "id": "mA0IKSj77dzQ"
   },
   "outputs": [],
   "source": [
    "# Delete sentence having less than 5 tokens\n",
    "df[df[\"wc\"] <= 5]\n",
    "df = df[df[\"wc\"] > 5]"
   ]
  },
  {
   "cell_type": "code",
   "execution_count": 0,
   "metadata": {
    "colab": {},
    "colab_type": "code",
    "id": "ALCNIHKX8IYn"
   },
   "outputs": [],
   "source": [
    "df.to_csv('/content/drive/My Drive/Colab Notebooks/nlp/course_project/cleaned_data.csv', index = False, header=True, encoding=\"utf-8-sig\")"
   ]
  }
 ],
 "metadata": {
  "accelerator": "GPU",
  "colab": {
   "collapsed_sections": [],
   "name": "Clean_data_NLP_bank.ipynb",
   "provenance": []
  },
  "kernelspec": {
   "display_name": "Python 3",
   "language": "python",
   "name": "python3"
  },
  "language_info": {
   "codemirror_mode": {
    "name": "ipython",
    "version": 3
   },
   "file_extension": ".py",
   "mimetype": "text/x-python",
   "name": "python",
   "nbconvert_exporter": "python",
   "pygments_lexer": "ipython3",
   "version": "3.7.3"
  }
 },
 "nbformat": 4,
 "nbformat_minor": 1
}
