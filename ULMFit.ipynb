{
 "cells": [
  {
   "cell_type": "code",
   "execution_count": 1,
   "metadata": {
    "colab": {
     "base_uri": "https://localhost:8080/",
     "height": 128
    },
    "colab_type": "code",
    "id": "ScsCFausLLdw",
    "outputId": "783f8a97-7574-4d75-e768-166fcd654767"
   },
   "outputs": [],
   "source": [
    "root_dir = \"/data/Full_datasets\"\n",
    "base_dir = root_dir + 'ulmfit-lab/'"
   ]
  },
  {
   "cell_type": "code",
   "execution_count": 2,
   "metadata": {
    "colab": {
     "base_uri": "https://localhost:8080/",
     "height": 1000
    },
    "colab_type": "code",
    "id": "3ypDzTXh5Yo9",
    "outputId": "a70ff668-241e-40d3-b2f3-020c341e564a"
   },
   "outputs": [
    {
     "name": "stdout",
     "output_type": "stream",
     "text": [
      "Requirement already satisfied: pythainlp[thai2fit] in /root/miniconda3/lib/python3.7/site-packages (2.1.4)\n",
      "Requirement already satisfied: requests>=2.22.0 in /root/miniconda3/lib/python3.7/site-packages (from pythainlp[thai2fit]) (2.22.0)\n",
      "Requirement already satisfied: nltk>=3.3 in /root/miniconda3/lib/python3.7/site-packages (from pythainlp[thai2fit]) (3.4.5)\n",
      "Requirement already satisfied: dill>=0.3.0 in /root/miniconda3/lib/python3.7/site-packages (from pythainlp[thai2fit]) (0.3.1.1)\n",
      "Requirement already satisfied: tqdm>=4.1 in /root/miniconda3/lib/python3.7/site-packages (from pythainlp[thai2fit]) (4.39.0)\n",
      "Requirement already satisfied: tinydb>=3.0 in /root/miniconda3/lib/python3.7/site-packages (from pythainlp[thai2fit]) (4.1.1)\n",
      "Requirement already satisfied: emoji>=0.5.1; extra == \"thai2fit\" in /root/miniconda3/lib/python3.7/site-packages (from pythainlp[thai2fit]) (0.5.4)\n",
      "Requirement already satisfied: gensim>=3.2.0; extra == \"thai2fit\" in /root/miniconda3/lib/python3.7/site-packages (from pythainlp[thai2fit]) (3.8.3)\n",
      "Requirement already satisfied: numpy>=1.16; extra == \"thai2fit\" in /root/miniconda3/lib/python3.7/site-packages (from pythainlp[thai2fit]) (1.16.4)\n",
      "Requirement already satisfied: chardet<3.1.0,>=3.0.2 in /root/miniconda3/lib/python3.7/site-packages (from requests>=2.22.0->pythainlp[thai2fit]) (3.0.4)\n",
      "Requirement already satisfied: idna<2.9,>=2.5 in /root/miniconda3/lib/python3.7/site-packages (from requests>=2.22.0->pythainlp[thai2fit]) (2.8)\n",
      "Requirement already satisfied: urllib3!=1.25.0,!=1.25.1,<1.26,>=1.21.1 in /root/miniconda3/lib/python3.7/site-packages (from requests>=2.22.0->pythainlp[thai2fit]) (1.24.2)\n",
      "Requirement already satisfied: certifi>=2017.4.17 in /root/miniconda3/lib/python3.7/site-packages (from requests>=2.22.0->pythainlp[thai2fit]) (2020.4.5.1)\n",
      "Requirement already satisfied: six in /root/miniconda3/lib/python3.7/site-packages (from nltk>=3.3->pythainlp[thai2fit]) (1.13.0)\n",
      "Requirement already satisfied: scipy>=0.18.1 in /root/miniconda3/lib/python3.7/site-packages (from gensim>=3.2.0; extra == \"thai2fit\"->pythainlp[thai2fit]) (1.1.0)\n",
      "Requirement already satisfied: smart-open>=1.8.1 in /root/miniconda3/lib/python3.7/site-packages (from gensim>=3.2.0; extra == \"thai2fit\"->pythainlp[thai2fit]) (2.0.0)\n",
      "Requirement already satisfied: boto in /root/miniconda3/lib/python3.7/site-packages (from smart-open>=1.8.1->gensim>=3.2.0; extra == \"thai2fit\"->pythainlp[thai2fit]) (2.49.0)\n",
      "Requirement already satisfied: boto3 in /root/miniconda3/lib/python3.7/site-packages (from smart-open>=1.8.1->gensim>=3.2.0; extra == \"thai2fit\"->pythainlp[thai2fit]) (1.13.8)\n",
      "Requirement already satisfied: jmespath<1.0.0,>=0.7.1 in /root/miniconda3/lib/python3.7/site-packages (from boto3->smart-open>=1.8.1->gensim>=3.2.0; extra == \"thai2fit\"->pythainlp[thai2fit]) (0.10.0)\n",
      "Requirement already satisfied: botocore<1.17.0,>=1.16.8 in /root/miniconda3/lib/python3.7/site-packages (from boto3->smart-open>=1.8.1->gensim>=3.2.0; extra == \"thai2fit\"->pythainlp[thai2fit]) (1.16.8)\n",
      "Requirement already satisfied: s3transfer<0.4.0,>=0.3.0 in /root/miniconda3/lib/python3.7/site-packages (from boto3->smart-open>=1.8.1->gensim>=3.2.0; extra == \"thai2fit\"->pythainlp[thai2fit]) (0.3.3)\n",
      "Requirement already satisfied: docutils<0.16,>=0.10 in /root/miniconda3/lib/python3.7/site-packages (from botocore<1.17.0,>=1.16.8->boto3->smart-open>=1.8.1->gensim>=3.2.0; extra == \"thai2fit\"->pythainlp[thai2fit]) (0.15.2)\n",
      "Requirement already satisfied: python-dateutil<3.0.0,>=2.1 in /root/miniconda3/lib/python3.7/site-packages (from botocore<1.17.0,>=1.16.8->boto3->smart-open>=1.8.1->gensim>=3.2.0; extra == \"thai2fit\"->pythainlp[thai2fit]) (2.8.1)\n"
     ]
    }
   ],
   "source": [
    "!pip install pythainlp[thai2fit]"
   ]
  },
  {
   "cell_type": "code",
   "execution_count": 3,
   "metadata": {
    "colab": {
     "base_uri": "https://localhost:8080/",
     "height": 35
    },
    "colab_type": "code",
    "id": "tk95dgPxCxIt",
    "outputId": "b36df1cb-59ac-4510-8576-54f29dc10c54"
   },
   "outputs": [
    {
     "name": "stdout",
     "output_type": "stream",
     "text": [
      "Requirement already satisfied: emoji in /root/miniconda3/lib/python3.7/site-packages (0.5.4)\r\n"
     ]
    }
   ],
   "source": [
    "!pip install emoji"
   ]
  },
  {
   "cell_type": "code",
   "execution_count": 4,
   "metadata": {
    "colab": {},
    "colab_type": "code",
    "id": "4cGA3vRaw8SW"
   },
   "outputs": [],
   "source": [
    "%matplotlib inline\n",
    "import pandas as pd\n",
    "import sklearn\n",
    "import numpy as np\n",
    "from IPython.display import display\n",
    "import matplotlib.pyplot as plt\n",
    "import pythainlp\n",
    "\n",
    "from sklearn.model_selection import train_test_split\n",
    "from sklearn.metrics import f1_score"
   ]
  },
  {
   "cell_type": "markdown",
   "metadata": {
    "colab_type": "text",
    "id": "5BQHdKaxw8Sh"
   },
   "source": [
    "##Load data"
   ]
  },
  {
   "cell_type": "markdown",
   "metadata": {
    "colab_type": "text",
    "id": "J1XzTzfCw8Sh"
   },
   "source": [
    "First, we load the data from disk into a Dataframe.\n",
    "A Dataframe is essentially a table, or 2D-array/Matrix with a name for each column.\n",
    "**Note: the data is provided courtesy of [TrueVoice](http://www.truevoice.co.th/) and must be used for educational purposes only**"
   ]
  },
  {
   "cell_type": "code",
   "execution_count": 5,
   "metadata": {
    "colab": {
     "base_uri": "https://localhost:8080/",
     "height": 349
    },
    "colab_type": "code",
    "id": "n7Mc4rKPw8Sl",
    "outputId": "6e1e9a92-baee-457f-96b7-b58d7d8d2eba"
   },
   "outputs": [
    {
     "data": {
      "text/html": [
       "<div>\n",
       "<style scoped>\n",
       "    .dataframe tbody tr th:only-of-type {\n",
       "        vertical-align: middle;\n",
       "    }\n",
       "\n",
       "    .dataframe tbody tr th {\n",
       "        vertical-align: top;\n",
       "    }\n",
       "\n",
       "    .dataframe thead th {\n",
       "        text-align: right;\n",
       "    }\n",
       "</style>\n",
       "<table border=\"1\" class=\"dataframe\">\n",
       "  <thead>\n",
       "    <tr style=\"text-align: right;\">\n",
       "      <th></th>\n",
       "      <th>text</th>\n",
       "      <th>intent</th>\n",
       "    </tr>\n",
       "  </thead>\n",
       "  <tbody>\n",
       "    <tr>\n",
       "      <th>0</th>\n",
       "      <td>เกาะติดเศรษฐกิจการเงินน้ำมันแพงเกี่ยวข้องกับค่า</td>\n",
       "      <td>น้ำมัน</td>\n",
       "    </tr>\n",
       "    <tr>\n",
       "      <th>1</th>\n",
       "      <td>มิยคนไทยซดน้ำมันแพงวเศษรับไม่ต่ำกว่า30บลิตร</td>\n",
       "      <td>น้ำมัน</td>\n",
       "    </tr>\n",
       "    <tr>\n",
       "      <th>2</th>\n",
       "      <td>ต่างชาติถล่มขายหุ้นเครือปตทมาร์เก็ตแคปพคหายแสน...</td>\n",
       "      <td>น้ำมัน</td>\n",
       "    </tr>\n",
       "    <tr>\n",
       "      <th>3</th>\n",
       "      <td>คาดโอเปคไม่ผลิตเพิ่มหวั่นน้ำมันราคาพุ่งยันปริม...</td>\n",
       "      <td>น้ำมัน</td>\n",
       "    </tr>\n",
       "    <tr>\n",
       "      <th>4</th>\n",
       "      <td>สศกคาดผลไม้ปี49ล้านตลาดพิษน้ำมันส่งผลกำลังซื้อ...</td>\n",
       "      <td>น้ำมัน</td>\n",
       "    </tr>\n",
       "  </tbody>\n",
       "</table>\n",
       "</div>"
      ],
      "text/plain": [
       "                                                text  intent\n",
       "0    เกาะติดเศรษฐกิจการเงินน้ำมันแพงเกี่ยวข้องกับค่า  น้ำมัน\n",
       "1        มิยคนไทยซดน้ำมันแพงวเศษรับไม่ต่ำกว่า30บลิตร  น้ำมัน\n",
       "2  ต่างชาติถล่มขายหุ้นเครือปตทมาร์เก็ตแคปพคหายแสน...  น้ำมัน\n",
       "3  คาดโอเปคไม่ผลิตเพิ่มหวั่นน้ำมันราคาพุ่งยันปริม...  น้ำมัน\n",
       "4  สศกคาดผลไม้ปี49ล้านตลาดพิษน้ำมันส่งผลกำลังซื้อ...  น้ำมัน"
      ]
     },
     "metadata": {},
     "output_type": "display_data"
    },
    {
     "data": {
      "text/html": [
       "<div>\n",
       "<style scoped>\n",
       "    .dataframe tbody tr th:only-of-type {\n",
       "        vertical-align: middle;\n",
       "    }\n",
       "\n",
       "    .dataframe tbody tr th {\n",
       "        vertical-align: top;\n",
       "    }\n",
       "\n",
       "    .dataframe thead th {\n",
       "        text-align: right;\n",
       "    }\n",
       "</style>\n",
       "<table border=\"1\" class=\"dataframe\">\n",
       "  <thead>\n",
       "    <tr style=\"text-align: right;\">\n",
       "      <th></th>\n",
       "      <th>text</th>\n",
       "      <th>intent</th>\n",
       "    </tr>\n",
       "  </thead>\n",
       "  <tbody>\n",
       "    <tr>\n",
       "      <th>count</th>\n",
       "      <td>991587</td>\n",
       "      <td>991587</td>\n",
       "    </tr>\n",
       "    <tr>\n",
       "      <th>unique</th>\n",
       "      <td>987350</td>\n",
       "      <td>9</td>\n",
       "    </tr>\n",
       "    <tr>\n",
       "      <th>top</th>\n",
       "      <td>เวิลด์แก๊สเคียงข้างสร้างรอยยิ้ม</td>\n",
       "      <td>ธนาคาร</td>\n",
       "    </tr>\n",
       "    <tr>\n",
       "      <th>freq</th>\n",
       "      <td>6</td>\n",
       "      <td>267349</td>\n",
       "    </tr>\n",
       "  </tbody>\n",
       "</table>\n",
       "</div>"
      ],
      "text/plain": [
       "                                   text  intent\n",
       "count                            991587  991587\n",
       "unique                           987350       9\n",
       "top     เวิลด์แก๊สเคียงข้างสร้างรอยยิ้ม  ธนาคาร\n",
       "freq                                  6  267349"
      ]
     },
     "execution_count": 5,
     "metadata": {},
     "output_type": "execute_result"
    }
   ],
   "source": [
    "data_df = pd.read_csv('full_datasets.csv')\n",
    "# Show the top 5 rows\n",
    "display(data_df.head())\n",
    "# Summarize the data\n",
    "data_df.describe()\n"
   ]
  },
  {
   "cell_type": "markdown",
   "metadata": {
    "colab_type": "text",
    "id": "lpG9uFhA-Hlv"
   },
   "source": [
    "### Split data\n",
    "\n",
    "split data into train and test set "
   ]
  },
  {
   "cell_type": "code",
   "execution_count": 6,
   "metadata": {
    "cellView": "both",
    "colab": {},
    "colab_type": "code",
    "id": "6uqzORGI-Ivu"
   },
   "outputs": [],
   "source": [
    "from sklearn.model_selection import train_test_split\n",
    "\n",
    "train_data, test_data = train_test_split(data_df,stratify=data_df['intent'], test_size=0.2,random_state=42)\n"
   ]
  },
  {
   "cell_type": "code",
   "execution_count": 7,
   "metadata": {
    "cellView": "both",
    "colab": {
     "base_uri": "https://localhost:8080/",
     "height": 198
    },
    "colab_type": "code",
    "id": "2ceU2t44-cBN",
    "outputId": "f8885512-ccc2-4c6b-ef19-2d3569b681da"
   },
   "outputs": [
    {
     "data": {
      "text/html": [
       "<div>\n",
       "<style scoped>\n",
       "    .dataframe tbody tr th:only-of-type {\n",
       "        vertical-align: middle;\n",
       "    }\n",
       "\n",
       "    .dataframe tbody tr th {\n",
       "        vertical-align: top;\n",
       "    }\n",
       "\n",
       "    .dataframe thead th {\n",
       "        text-align: right;\n",
       "    }\n",
       "</style>\n",
       "<table border=\"1\" class=\"dataframe\">\n",
       "  <thead>\n",
       "    <tr style=\"text-align: right;\">\n",
       "      <th></th>\n",
       "      <th>text</th>\n",
       "      <th>intent</th>\n",
       "    </tr>\n",
       "  </thead>\n",
       "  <tbody>\n",
       "    <tr>\n",
       "      <th>561233</th>\n",
       "      <td>พลวัตเศรษฐกิจปัญหาเศรษฐกิจการเงินโลกจาก</td>\n",
       "      <td>ธนาคาร</td>\n",
       "    </tr>\n",
       "    <tr>\n",
       "      <th>762893</th>\n",
       "      <td>บสยเข้าเครดิตบูโรดึงsmeเข้าระบบ</td>\n",
       "      <td>ธนาคาร</td>\n",
       "    </tr>\n",
       "    <tr>\n",
       "      <th>607633</th>\n",
       "      <td>กองทุนเน้นลงทุนหุ้นแบงก์พลังงานเชื่อมั่นเศรษฐก...</td>\n",
       "      <td>ธนาคาร</td>\n",
       "    </tr>\n",
       "    <tr>\n",
       "      <th>473798</th>\n",
       "      <td>พาณิชย์ปิ๊งขายไข่ไก่ร้านถูกใจ</td>\n",
       "      <td>ธุรกิจค้าปลีก</td>\n",
       "    </tr>\n",
       "    <tr>\n",
       "      <th>112747</th>\n",
       "      <td>โดรนปริศนาโจมตีคลังน้ำมันซาอุฯ</td>\n",
       "      <td>น้ำมัน</td>\n",
       "    </tr>\n",
       "  </tbody>\n",
       "</table>\n",
       "</div>"
      ],
      "text/plain": [
       "                                                     text         intent\n",
       "561233            พลวัตเศรษฐกิจปัญหาเศรษฐกิจการเงินโลกจาก         ธนาคาร\n",
       "762893                    บสยเข้าเครดิตบูโรดึงsmeเข้าระบบ         ธนาคาร\n",
       "607633  กองทุนเน้นลงทุนหุ้นแบงก์พลังงานเชื่อมั่นเศรษฐก...         ธนาคาร\n",
       "473798                      พาณิชย์ปิ๊งขายไข่ไก่ร้านถูกใจ  ธุรกิจค้าปลีก\n",
       "112747                     โดรนปริศนาโจมตีคลังน้ำมันซาอุฯ         น้ำมัน"
      ]
     },
     "execution_count": 7,
     "metadata": {},
     "output_type": "execute_result"
    }
   ],
   "source": [
    "train_data.head()"
   ]
  },
  {
   "cell_type": "markdown",
   "metadata": {
    "colab_type": "text",
    "id": "X9qSSkkyw8TJ"
   },
   "source": [
    "## [ULMFit](https://arxiv.org/abs/1801.06146) Model\n",
    "ULMFit model has 3 stages:\n",
    "1. The LM is trained on a general-domain corpus to capture\n",
    "general features of the language in different layers\n",
    "2. The full LM is fine-tuned on target task data \n",
    "3. The classifier is fine-tuned on the target task using gradual unfreezing, ‘Discr’, and STLR to\n",
    "preserve low-level representations and adapt high-level ones "
   ]
  },
  {
   "cell_type": "code",
   "execution_count": 8,
   "metadata": {
    "colab": {
     "base_uri": "https://localhost:8080/",
     "height": 183
    },
    "colab_type": "code",
    "id": "jZQmmXLDw8TK",
    "outputId": "0e61127e-a71c-4070-b6ce-5bb8260b7417"
   },
   "outputs": [],
   "source": [
    "import pandas as pd\n",
    "import numpy as np\n",
    "from ast import literal_eval\n",
    "from tqdm import tqdm_notebook\n",
    "from collections import Counter\n",
    "import re\n",
    "\n",
    "#viz\n",
    "import matplotlib.pyplot as plt\n",
    "import seaborn as sns\n",
    "\n",
    "from fastai.text import * \n",
    "from fastai.callbacks import CSVLogger, SaveModelCallback\n",
    "\n",
    "from pythainlp.ulmfit import *\n",
    "\n",
    "model_path = ''"
   ]
  },
  {
   "cell_type": "code",
   "execution_count": 9,
   "metadata": {
    "colab": {
     "base_uri": "https://localhost:8080/",
     "height": 54
    },
    "colab_type": "code",
    "id": "J5CkHpPLLdxS",
    "outputId": "998c5508-2034-4ff3-df09-357d150139c7"
   },
   "outputs": [
    {
     "data": {
      "text/plain": [
       "{'wgts_fname': '/root/pythainlp-data/thwiki_model_lstm.pth',\n",
       " 'itos_fname': '/root/pythainlp-data/itos_lstm.pkl'}"
      ]
     },
     "execution_count": 9,
     "metadata": {},
     "output_type": "execute_result"
    }
   ],
   "source": [
    "_THWIKI_LSTM #The LM is trained on a general-domain corpus to capture general features of the language in different layers"
   ]
  },
  {
   "cell_type": "code",
   "execution_count": 10,
   "metadata": {
    "colab": {
     "base_uri": "https://localhost:8080/",
     "height": 54
    },
    "colab_type": "code",
    "id": "WhRDaEdbw8TM",
    "outputId": "45183c03-cd3e-4b38-9d1f-e919874e66a8"
   },
   "outputs": [
    {
     "name": "stderr",
     "output_type": "stream",
     "text": [
      "/root/miniconda3/lib/python3.7/site-packages/fastai/data_block.py:217: UserWarning: `random_split_by_pct` is deprecated, please use `split_by_rand_pct`.\n",
      "  warn(\"`random_split_by_pct` is deprecated, please use `split_by_rand_pct`.\")\n"
     ]
    },
    {
     "data": {
      "text/html": [],
      "text/plain": [
       "<IPython.core.display.HTML object>"
      ]
     },
     "metadata": {},
     "output_type": "display_data"
    },
    {
     "data": {
      "text/html": [],
      "text/plain": [
       "<IPython.core.display.HTML object>"
      ]
     },
     "metadata": {},
     "output_type": "display_data"
    }
   ],
   "source": [
    "#configuration\n",
    "tt = Tokenizer(tok_func = ThaiTokenizer, lang = 'th', pre_rules = pre_rules_th, post_rules=post_rules_th)\n",
    "processor = [TokenizeProcessor(tokenizer=tt, chunksize=10000, mark_fields=False),\n",
    "            NumericalizeProcessor(vocab=None, max_vocab=60000, min_freq=3)]\n",
    "\n",
    "data_lm = (TextList.from_df(train_data, model_path, cols=['text'], processor=processor)\n",
    "    .random_split_by_pct(valid_pct = 0.01, seed = 1412)\n",
    "    .label_for_lm()\n",
    "    .databunch(bs=64))\n",
    "data_lm.sanity_check()\n",
    "data_lm.save('truevoice_cu_lm.pkl')"
   ]
  },
  {
   "cell_type": "code",
   "execution_count": 11,
   "metadata": {
    "colab": {
     "base_uri": "https://localhost:8080/",
     "height": 35
    },
    "colab_type": "code",
    "id": "Qev58uwSw8TN",
    "outputId": "ae53a83a-bede-4fa0-a568-68ea19f58b29"
   },
   "outputs": [
    {
     "data": {
      "text/plain": [
       "(785337, 7932)"
      ]
     },
     "execution_count": 11,
     "metadata": {},
     "output_type": "execute_result"
    }
   ],
   "source": [
    "data_lm = load_data(model_path,'truevoice_cu_lm.pkl') #Target task data\n",
    "data_lm.sanity_check()\n",
    "len(data_lm.train_ds), len(data_lm.valid_ds)"
   ]
  },
  {
   "cell_type": "code",
   "execution_count": 12,
   "metadata": {
    "colab": {
     "base_uri": "https://localhost:8080/",
     "height": 285
    },
    "colab_type": "code",
    "id": "ve53_2uXw8TO",
    "outputId": "ffa911af-b4d5-4278-b2dc-43dc016c07b4"
   },
   "outputs": [
    {
     "data": {
      "text/html": [
       "<table border=\"1\" class=\"dataframe\">\n",
       "  <thead>\n",
       "    <tr style=\"text-align: right;\">\n",
       "      <th>idx</th>\n",
       "      <th>text</th>\n",
       "    </tr>\n",
       "  </thead>\n",
       "  <tbody>\n",
       "    <tr>\n",
       "      <td>0</td>\n",
       "      <td>กรอบ xxbos   พิษ ระเบิด จ่อ เลื่อน ไทยแลนด์ โฟกัส xxbos   โครงสร้าง การค้า โลก เปลี่ยน เหตุ ส่งออก เอเชีย ฟื้นตัว ช้า xxbos   ฟันธง ผลกระทบ คดี ปตท นักวิเคราะห์ มอง ความเสียหาย มี มากกว่า ที่ xxbos   ชาย คาธ ก สระ วัง ข่าวลือ ข่าว ลวง หลอก จ่าย เงิน xxbos   พระราชทาน 10 ล้าน ช่วย ผู้ประสบภัย เนปาล 64 นัก แสวงบุญ ถึง บ้าน เล่า xxbos   สุริยะ อัด แคมเปญ</td>\n",
       "    </tr>\n",
       "    <tr>\n",
       "      <td>1</td>\n",
       "      <td>ด้วย ของกำนัล xxbos   makro ลือ ขาย กิจการ ไม่ เลิก โบ รก ฯ คาด ราคาขาย 730 บาท xxbos   สธ เฝ้า ระวัง 483 นักเดินทาง พท เสี่ยง อี โบ ลา xxbos   มท 3 ขู่ ยึด 4 สนามกอล์ฟ ระยอง xxbos   อาเซียน ระทึก จับ 8 เจ ไอ ซ่องสุม ภูเก็ต พังงา พบ ระเบิด จ้อง ป่วน xxbos   เฮดจ์ฟันด์ เท ขาย สัญญา ล่วงหน้า ทุก สินค้า ยาง รับ กระทบ</td>\n",
       "    </tr>\n",
       "    <tr>\n",
       "      <td>2</td>\n",
       "      <td>หุ้น แลกเปลี่ยน ความคิดเห็น xxbos   launch ร้อน จาก แบงก์ ขยาย วงเงิน ช่วย เหยื่อ น้ำท่วม ปี xxbos   ลาว สร้าง สนามบิน ใหม่ ที่ อัตตะ ปือ xxbos   ลูกขุน ชี้ ซิม ป์ สัน ผิด จริง ไม่รอด คุก แน่ xxbos   ทางออก นอกตำรา ลุง ตู่ ปฏิวัติ ระบบ กู้ยืม ไชโย ต้น xxbos   สำนักข่าว ดาวเหนือ แหล่ง ช้อป ท็อป 8 ใน ลอน ดอน xxbos   เวิลด์ แบงก์ ประเมิน ศก</td>\n",
       "    </tr>\n",
       "    <tr>\n",
       "      <td>3</td>\n",
       "      <td>จับจ่าย xxbos   ปฏิทิน ธุรกิจ วันที่ 20 กันยายน 2561 xxbos   ฟินัน ซ่า ทิ้ง หุ้น ไทย ซบ เวียดนาม จีน ชู ผลตอบแทน 20 xxbos   น้ำลด 7 แสน คน ส่อ ตกงาน แนะ รัฐ อัด งบ หนัก ดูแล ค้าปลีก หนุน กระตุ้น แรง xxbos   ชีพจร โลก ธุรกิจ ศุ ภา ลัย ผุด คอนโด หรู ส่งท้าย ปี xxbos   ผล โพลล์ ยัน โลก มอง อเมริกา เป็น ภัย คุกคาม xxbos</td>\n",
       "    </tr>\n",
       "    <tr>\n",
       "      <td>4</td>\n",
       "      <td>โดนใจ ไม่ แบ่ง สี xxbos   ปตท ตั้งเป้า รับ ฤดูกาล 2013 หนุน พลัง เพลิง ขึ้น ไทย พ รี เมีย xxbos   ifs รุก สินเชื่อ เอสเอ็มอี วาง เป้าหมาย ปี นี้ โต 10 xxbos   รวบ 5 ต้องสงสัย ยึด รพ ทหารพราน ปิดล้อม 5 จุด ระ แงะ นราฯ ป่วน อีก บึ้ม xxbos   เดินหน้า เลี้ยวซ้าย น้ำมัน แพง ต้อง ฉลาด เติม xxbos   อี โบ ลา คืนชีพ ตาย 2</td>\n",
       "    </tr>\n",
       "  </tbody>\n",
       "</table>"
      ],
      "text/plain": [
       "<IPython.core.display.HTML object>"
      ]
     },
     "metadata": {},
     "output_type": "display_data"
    }
   ],
   "source": [
    "data_lm.show_batch(5)"
   ]
  },
  {
   "cell_type": "markdown",
   "metadata": {
    "colab_type": "text",
    "id": "idS2ExmRW0ss"
   },
   "source": [
    "### (step 1) load pretrained model trained on general corpus"
   ]
  },
  {
   "cell_type": "code",
   "execution_count": 13,
   "metadata": {
    "colab": {
     "base_uri": "https://localhost:8080/",
     "height": 1000
    },
    "colab_type": "code",
    "id": "9P1Iv6LCw8TP",
    "outputId": "68e3d0a7-9dba-4f30-b47a-c93c76bb6ea7"
   },
   "outputs": [
    {
     "data": {
      "text/plain": [
       "LanguageLearner(data=TextLMDataBunch;\n",
       "\n",
       "Train: LabelList (785337 items)\n",
       "x: LMTextList\n",
       "xxbos   พลวัต เศรษฐกิจ ปัญหา เศรษฐกิจ การเงิน โลก จาก,xxbos   บสย เข้า เครดิต บู โร ดึง sme เข้า ระบบ,xxbos   กองทุน เน้น ลงทุน หุ้น แบงก์ พลังงาน เชื่อมั่น เศรษฐกิจ ไทย คึกคัก,xxbos   พาณิชย์ ปิ๊ง ขาย ไข่ไก่ ร้าน ถูกใจ,xxbos   โด รน ปริศนา โจมตี คลังน้ำมัน ซาอุฯ\n",
       "y: LMLabelList\n",
       ",,,,\n",
       "Path: .;\n",
       "\n",
       "Valid: LabelList (7932 items)\n",
       "x: LMTextList\n",
       "xxbos   ทิ้ง หมัด เข้ามุม คำถาม ซ้ำซาก สาม จังหวัด ชายแดน ใต้,xxbos   cpw จ่อ ไอ พีโอ 160 ล้าน หุ้น ต่อ ยอด สาขา สินค้า ดิจิทัล,xxbos   ลูก คนดัง ชวน ประดิษฐ์ การ์ด diy บอ กรัก แม่,xxbos   สหกรณ์ จังหวัด แพร่ ตรวจ เยี่ยม แปลง ผลิต,xxbos   สื่อ นอก พูด คำเตือน ที่ ต้อง รับฟัง\n",
       "y: LMLabelList\n",
       ",,,,\n",
       "Path: .;\n",
       "\n",
       "Test: None, model=SequentialRNN(\n",
       "  (0): AWD_LSTM(\n",
       "    (encoder): Embedding(30008, 400, padding_idx=1)\n",
       "    (encoder_dp): EmbeddingDropout(\n",
       "      (emb): Embedding(30008, 400, padding_idx=1)\n",
       "    )\n",
       "    (rnns): ModuleList(\n",
       "      (0): WeightDropout(\n",
       "        (module): LSTM(400, 1550, batch_first=True)\n",
       "      )\n",
       "      (1): WeightDropout(\n",
       "        (module): LSTM(1550, 1550, batch_first=True)\n",
       "      )\n",
       "      (2): WeightDropout(\n",
       "        (module): LSTM(1550, 1550, batch_first=True)\n",
       "      )\n",
       "      (3): WeightDropout(\n",
       "        (module): LSTM(1550, 400, batch_first=True)\n",
       "      )\n",
       "    )\n",
       "    (input_dp): RNNDropout()\n",
       "    (hidden_dps): ModuleList(\n",
       "      (0): RNNDropout()\n",
       "      (1): RNNDropout()\n",
       "      (2): RNNDropout()\n",
       "      (3): RNNDropout()\n",
       "    )\n",
       "  )\n",
       "  (1): LinearDecoder(\n",
       "    (decoder): Linear(in_features=400, out_features=30008, bias=True)\n",
       "    (output_dp): RNNDropout()\n",
       "  )\n",
       "), opt_func=functools.partial(<class 'torch.optim.adam.Adam'>, betas=(0.9, 0.99)), loss_func=FlattenedLoss of CrossEntropyLoss(), metrics=[<function accuracy at 0x7fd2eb5464d0>], true_wd=True, bn_wd=True, wd=0.01, train_bn=True, path=PosixPath('.'), model_dir='models', callback_fns=[functools.partial(<class 'fastai.basic_train.Recorder'>, add_time=True, silent=False), functools.partial(<class 'fastai.train.GradientClipping'>, clip=0.12)], callbacks=[RNNTrainer\n",
       "learn: ...\n",
       "alpha: 2\n",
       "beta: 1], layer_groups=[Sequential(\n",
       "  (0): WeightDropout(\n",
       "    (module): LSTM(400, 1550, batch_first=True)\n",
       "  )\n",
       "  (1): RNNDropout()\n",
       "), Sequential(\n",
       "  (0): WeightDropout(\n",
       "    (module): LSTM(1550, 1550, batch_first=True)\n",
       "  )\n",
       "  (1): RNNDropout()\n",
       "), Sequential(\n",
       "  (0): WeightDropout(\n",
       "    (module): LSTM(1550, 1550, batch_first=True)\n",
       "  )\n",
       "  (1): RNNDropout()\n",
       "), Sequential(\n",
       "  (0): WeightDropout(\n",
       "    (module): LSTM(1550, 400, batch_first=True)\n",
       "  )\n",
       "  (1): RNNDropout()\n",
       "), Sequential(\n",
       "  (0): Embedding(30008, 400, padding_idx=1)\n",
       "  (1): EmbeddingDropout(\n",
       "    (emb): Embedding(30008, 400, padding_idx=1)\n",
       "  )\n",
       "  (2): LinearDecoder(\n",
       "    (decoder): Linear(in_features=400, out_features=30008, bias=True)\n",
       "    (output_dp): RNNDropout()\n",
       "  )\n",
       ")], add_time=True, silent=False)"
      ]
     },
     "execution_count": 13,
     "metadata": {},
     "output_type": "execute_result"
    }
   ],
   "source": [
    "#configuration\n",
    "config = dict(emb_sz=400, n_hid=1550, n_layers=4, pad_token=1, qrnn=False, tie_weights=True, out_bias=True,\n",
    "             output_p=0.25, hidden_p=0.1, input_p=0.2, embed_p=0.02, weight_p=0.15)\n",
    "trn_args = dict(drop_mult=0.9, clip=0.12, alpha=2, beta=1)\n",
    "\n",
    "learn = language_model_learner(data_lm, AWD_LSTM, config=config, pretrained=False, **trn_args) #for step 2\n",
    "\n",
    "# load pretrained models ( Step 1. The LM is trained on a general-domain corpus to capture\n",
    "# general features of the language in different layers)\n",
    "learn.load_pretrained(**_THWIKI_LSTM) "
   ]
  },
  {
   "cell_type": "markdown",
   "metadata": {
    "colab_type": "text",
    "id": "_1xEDyAgNETb"
   },
   "source": [
    "### (step 2) the full LM is fine-tuned on target task data \n",
    "\n",
    "Read about [freeze_to](https://docs.fast.ai/basic_train.html#Learner.freeze_to)"
   ]
  },
  {
   "cell_type": "code",
   "execution_count": 14,
   "metadata": {
    "colab": {
     "base_uri": "https://localhost:8080/",
     "height": 96
    },
    "colab_type": "code",
    "id": "wlBRqIShw8TT",
    "outputId": "79a7d7a4-c035-42bc-e9e6-7dcdba1a2e64",
    "scrolled": true
   },
   "outputs": [
    {
     "name": "stdout",
     "output_type": "stream",
     "text": [
      "training frozen\n"
     ]
    },
    {
     "data": {
      "text/html": [
       "<table border=\"1\" class=\"dataframe\">\n",
       "  <thead>\n",
       "    <tr style=\"text-align: left;\">\n",
       "      <th>epoch</th>\n",
       "      <th>train_loss</th>\n",
       "      <th>valid_loss</th>\n",
       "      <th>accuracy</th>\n",
       "      <th>time</th>\n",
       "    </tr>\n",
       "  </thead>\n",
       "  <tbody>\n",
       "    <tr>\n",
       "      <td>0</td>\n",
       "      <td>5.764125</td>\n",
       "      <td>5.513730</td>\n",
       "      <td>0.240753</td>\n",
       "      <td>06:58</td>\n",
       "    </tr>\n",
       "  </tbody>\n",
       "</table>"
      ],
      "text/plain": [
       "<IPython.core.display.HTML object>"
      ]
     },
     "metadata": {},
     "output_type": "display_data"
    }
   ],
   "source": [
    "#train frozen\n",
    "print('training frozen')\n",
    "learn.freeze_to(-1)\n",
    "learn.fit_one_cycle(1, 1e-3, moms=(0.8, 0.7))"
   ]
  },
  {
   "cell_type": "markdown",
   "metadata": {
    "colab_type": "text",
    "id": "Z_Y1toEtNrva"
   },
   "source": [
    "[unfreeze](https://docs.fast.ai/basic_train.html#Learner.unfreeze) sets every layer group to trainable "
   ]
  },
  {
   "cell_type": "code",
   "execution_count": 15,
   "metadata": {
    "colab": {
     "base_uri": "https://localhost:8080/",
     "height": 1000
    },
    "colab_type": "code",
    "id": "s644OorUw8TU",
    "outputId": "b6ba037e-08cd-47cb-e13e-d7e62c0e6d2b"
   },
   "outputs": [
    {
     "name": "stdout",
     "output_type": "stream",
     "text": [
      "training unfrozen\n"
     ]
    },
    {
     "data": {
      "text/html": [
       "<table border=\"1\" class=\"dataframe\">\n",
       "  <thead>\n",
       "    <tr style=\"text-align: left;\">\n",
       "      <th>epoch</th>\n",
       "      <th>train_loss</th>\n",
       "      <th>valid_loss</th>\n",
       "      <th>accuracy</th>\n",
       "      <th>time</th>\n",
       "    </tr>\n",
       "  </thead>\n",
       "  <tbody>\n",
       "    <tr>\n",
       "      <td>0</td>\n",
       "      <td>5.484977</td>\n",
       "      <td>5.275995</td>\n",
       "      <td>0.259619</td>\n",
       "      <td>08:33</td>\n",
       "    </tr>\n",
       "    <tr>\n",
       "      <td>1</td>\n",
       "      <td>5.249506</td>\n",
       "      <td>5.061747</td>\n",
       "      <td>0.275989</td>\n",
       "      <td>08:33</td>\n",
       "    </tr>\n",
       "    <tr>\n",
       "      <td>2</td>\n",
       "      <td>5.082715</td>\n",
       "      <td>4.890694</td>\n",
       "      <td>0.289509</td>\n",
       "      <td>08:34</td>\n",
       "    </tr>\n",
       "    <tr>\n",
       "      <td>3</td>\n",
       "      <td>4.962525</td>\n",
       "      <td>4.780730</td>\n",
       "      <td>0.298108</td>\n",
       "      <td>08:33</td>\n",
       "    </tr>\n",
       "    <tr>\n",
       "      <td>4</td>\n",
       "      <td>4.869998</td>\n",
       "      <td>4.709342</td>\n",
       "      <td>0.303380</td>\n",
       "      <td>08:33</td>\n",
       "    </tr>\n",
       "    <tr>\n",
       "      <td>5</td>\n",
       "      <td>4.811227</td>\n",
       "      <td>4.661977</td>\n",
       "      <td>0.307196</td>\n",
       "      <td>08:33</td>\n",
       "    </tr>\n",
       "    <tr>\n",
       "      <td>6</td>\n",
       "      <td>4.793129</td>\n",
       "      <td>4.632424</td>\n",
       "      <td>0.309758</td>\n",
       "      <td>08:33</td>\n",
       "    </tr>\n",
       "    <tr>\n",
       "      <td>7</td>\n",
       "      <td>4.781185</td>\n",
       "      <td>4.617828</td>\n",
       "      <td>0.311033</td>\n",
       "      <td>08:34</td>\n",
       "    </tr>\n",
       "    <tr>\n",
       "      <td>8</td>\n",
       "      <td>4.751219</td>\n",
       "      <td>4.610410</td>\n",
       "      <td>0.311501</td>\n",
       "      <td>08:34</td>\n",
       "    </tr>\n",
       "    <tr>\n",
       "      <td>9</td>\n",
       "      <td>4.754484</td>\n",
       "      <td>4.609965</td>\n",
       "      <td>0.311628</td>\n",
       "      <td>08:33</td>\n",
       "    </tr>\n",
       "  </tbody>\n",
       "</table>"
      ],
      "text/plain": [
       "<IPython.core.display.HTML object>"
      ]
     },
     "metadata": {},
     "output_type": "display_data"
    }
   ],
   "source": [
    "#train unfrozen (take about 5 mins)\n",
    "print('training unfrozen')\n",
    "learn.unfreeze()\n",
    "learn.fit_one_cycle(10, 1e-4, moms=(0.8, 0.7))"
   ]
  },
  {
   "cell_type": "code",
   "execution_count": 16,
   "metadata": {
    "colab": {},
    "colab_type": "code",
    "id": "7QShgbhjw8TW"
   },
   "outputs": [],
   "source": [
    "learn.save_encoder('truevoice_enc')"
   ]
  },
  {
   "cell_type": "markdown",
   "metadata": {
    "colab_type": "text",
    "id": "xnhaFpZmw8TX"
   },
   "source": [
    "### (step 3) Classification\n",
    " The classifier is fine-tuned on the target task using gradual unfreezing, ‘Discr’, and STLR to\n",
    "preserve low-level representations and adapt high-level ones "
   ]
  },
  {
   "cell_type": "code",
   "execution_count": 20,
   "metadata": {
    "colab": {},
    "colab_type": "code",
    "id": "eevPIJptw8TX",
    "scrolled": true
   },
   "outputs": [
    {
     "name": "stderr",
     "output_type": "stream",
     "text": [
      "/root/miniconda3/lib/python3.7/site-packages/fastai/data_block.py:217: UserWarning: `random_split_by_pct` is deprecated, please use `split_by_rand_pct`.\n",
      "  warn(\"`random_split_by_pct` is deprecated, please use `split_by_rand_pct`.\")\n"
     ]
    },
    {
     "data": {
      "text/html": [],
      "text/plain": [
       "<IPython.core.display.HTML object>"
      ]
     },
     "metadata": {},
     "output_type": "display_data"
    },
    {
     "data": {
      "text/html": [],
      "text/plain": [
       "<IPython.core.display.HTML object>"
      ]
     },
     "metadata": {},
     "output_type": "display_data"
    },
    {
     "data": {
      "text/html": [],
      "text/plain": [
       "<IPython.core.display.HTML object>"
      ]
     },
     "metadata": {},
     "output_type": "display_data"
    }
   ],
   "source": [
    "#configuration\n",
    "tt = Tokenizer(tok_func = ThaiTokenizer, lang = 'th', pre_rules = pre_rules_th, post_rules=post_rules_th)\n",
    "processor = [TokenizeProcessor(tokenizer=tt, chunksize=10000, mark_fields=False),\n",
    "            NumericalizeProcessor(vocab=data_lm.vocab, max_vocab=60000, min_freq=3)]\n",
    "\n",
    "\n",
    "data_cls = (TextList.from_df(train_data, model_path, cols=['text'], processor=processor)\n",
    "    .random_split_by_pct(valid_pct = 0.05, seed = 1412)\n",
    "    .label_from_df('intent')\n",
    "    .add_test(TextList.from_df(test_data, model_path, cols=['text'], processor=processor))\n",
    "    .databunch(bs=64)\n",
    "    )\n",
    "\n",
    "data_cls.sanity_check()\n",
    "data_cls.save('truevoice_cu_cls.pkl')"
   ]
  },
  {
   "cell_type": "code",
   "execution_count": 22,
   "metadata": {
    "colab": {},
    "colab_type": "code",
    "id": "XvgXetwiw8TY"
   },
   "outputs": [
    {
     "data": {
      "text/plain": [
       "RNNLearner(data=TextClasDataBunch;\n",
       "\n",
       "Train: LabelList (753606 items)\n",
       "x: TextList\n",
       "xxbos   พลวัต เศรษฐกิจ ปัญหา เศรษฐกิจ การเงิน โลก จาก,xxbos   บสย เข้า เครดิต บู โร ดึง sme เข้า ระบบ,xxbos   พาณิชย์ ปิ๊ง ขาย ไข่ไก่ ร้าน ถูกใจ,xxbos   โด รน ปริศนา โจมตี คลังน้ำมัน ซาอุฯ,xxbos   สำรวจ การออม ของ แรงงาน เผย เงิน หลัง เกษียณ ไม่ พอใช้\n",
       "y: CategoryList\n",
       "ธนาคาร,ธนาคาร,ธุรกิจค้าปลีก,น้ำมัน,ธนาคาร\n",
       "Path: .;\n",
       "\n",
       "Valid: LabelList (39663 items)\n",
       "x: TextList\n",
       "xxbos   ทิ้ง หมัด เข้ามุม คำถาม ซ้ำซาก สาม จังหวัด ชายแดน ใต้,xxbos   cpw จ่อ ไอ พีโอ 160 ล้าน หุ้น ต่อ ยอด สาขา สินค้า ดิจิทัล,xxbos   ลูก คนดัง ชวน ประดิษฐ์ การ์ด diy บอ กรัก แม่,xxbos   สหกรณ์ จังหวัด แพร่ ตรวจ เยี่ยม แปลง ผลิต,xxbos   สื่อ นอก พูด คำเตือน ที่ ต้อง รับฟัง\n",
       "y: CategoryList\n",
       "สงคราม,ธุรกิจค้าปลีก,ธนาคาร,ธุรกิจค้าปลีก,ธนาคาร\n",
       "Path: .;\n",
       "\n",
       "Test: LabelList (198318 items)\n",
       "x: TextList\n",
       "xxbos   จับ ประเด็น ชี้ แหล่ง ก๊าซ อ่าวไทย หยุด ไม่ กระทบ ผลิต ไฟฟ้า,xxbos   ชุมทาง ตลาด เดอะ สกาย ช็อปปิ้ง พร้อม เปิด พย นี้,xxbos   ข่าวสั้น เศรษฐกิจ ยกระดับ อู่ ตะเภา,xxbos   อินทรี ผงาด ฟ้า ความเป็นกลาง,xxbos   ซี พี ออ ลล์ เปิด ค่าย กล้า วรรณกรรม และ 711 ถอดรหัส นัก วาด\n",
       "y: EmptyLabelList\n",
       ",,,,\n",
       "Path: ., model=SequentialRNN(\n",
       "  (0): MultiBatchEncoder(\n",
       "    (module): AWD_LSTM(\n",
       "      (encoder): Embedding(30008, 400, padding_idx=1)\n",
       "      (encoder_dp): EmbeddingDropout(\n",
       "        (emb): Embedding(30008, 400, padding_idx=1)\n",
       "      )\n",
       "      (rnns): ModuleList(\n",
       "        (0): WeightDropout(\n",
       "          (module): LSTM(400, 1550, batch_first=True)\n",
       "        )\n",
       "        (1): WeightDropout(\n",
       "          (module): LSTM(1550, 1550, batch_first=True)\n",
       "        )\n",
       "        (2): WeightDropout(\n",
       "          (module): LSTM(1550, 1550, batch_first=True)\n",
       "        )\n",
       "        (3): WeightDropout(\n",
       "          (module): LSTM(1550, 400, batch_first=True)\n",
       "        )\n",
       "      )\n",
       "      (input_dp): RNNDropout()\n",
       "      (hidden_dps): ModuleList(\n",
       "        (0): RNNDropout()\n",
       "        (1): RNNDropout()\n",
       "        (2): RNNDropout()\n",
       "        (3): RNNDropout()\n",
       "      )\n",
       "    )\n",
       "  )\n",
       "  (1): PoolingLinearClassifier(\n",
       "    (layers): Sequential(\n",
       "      (0): BatchNorm1d(1200, eps=1e-05, momentum=0.1, affine=True, track_running_stats=True)\n",
       "      (1): Dropout(p=0.125, inplace=False)\n",
       "      (2): Linear(in_features=1200, out_features=50, bias=True)\n",
       "      (3): ReLU(inplace=True)\n",
       "      (4): BatchNorm1d(50, eps=1e-05, momentum=0.1, affine=True, track_running_stats=True)\n",
       "      (5): Dropout(p=0.1, inplace=False)\n",
       "      (6): Linear(in_features=50, out_features=9, bias=True)\n",
       "    )\n",
       "  )\n",
       "), opt_func=functools.partial(<class 'torch.optim.adam.Adam'>, betas=(0.7, 0.99)), loss_func=FlattenedLoss of CrossEntropyLoss(), metrics=[<function accuracy at 0x7fd2eb5464d0>], true_wd=True, bn_wd=True, wd=0.01, train_bn=True, path=PosixPath('.'), model_dir='models', callback_fns=[functools.partial(<class 'fastai.basic_train.Recorder'>, add_time=True, silent=False)], callbacks=[RNNTrainer\n",
       "learn: ...\n",
       "alpha: 2\n",
       "beta: 1], layer_groups=[Sequential(\n",
       "  (0): Embedding(30008, 400, padding_idx=1)\n",
       "  (1): EmbeddingDropout(\n",
       "    (emb): Embedding(30008, 400, padding_idx=1)\n",
       "  )\n",
       "), Sequential(\n",
       "  (0): WeightDropout(\n",
       "    (module): LSTM(400, 1550, batch_first=True)\n",
       "  )\n",
       "  (1): RNNDropout()\n",
       "), Sequential(\n",
       "  (0): WeightDropout(\n",
       "    (module): LSTM(1550, 1550, batch_first=True)\n",
       "  )\n",
       "  (1): RNNDropout()\n",
       "), Sequential(\n",
       "  (0): WeightDropout(\n",
       "    (module): LSTM(1550, 1550, batch_first=True)\n",
       "  )\n",
       "  (1): RNNDropout()\n",
       "), Sequential(\n",
       "  (0): WeightDropout(\n",
       "    (module): LSTM(1550, 400, batch_first=True)\n",
       "  )\n",
       "  (1): RNNDropout()\n",
       "), Sequential(\n",
       "  (0): PoolingLinearClassifier(\n",
       "    (layers): Sequential(\n",
       "      (0): BatchNorm1d(1200, eps=1e-05, momentum=0.1, affine=True, track_running_stats=True)\n",
       "      (1): Dropout(p=0.125, inplace=False)\n",
       "      (2): Linear(in_features=1200, out_features=50, bias=True)\n",
       "      (3): ReLU(inplace=True)\n",
       "      (4): BatchNorm1d(50, eps=1e-05, momentum=0.1, affine=True, track_running_stats=True)\n",
       "      (5): Dropout(p=0.1, inplace=False)\n",
       "      (6): Linear(in_features=50, out_features=9, bias=True)\n",
       "    )\n",
       "  )\n",
       ")], add_time=True, silent=False)"
      ]
     },
     "execution_count": 22,
     "metadata": {},
     "output_type": "execute_result"
    }
   ],
   "source": [
    "config = dict(emb_sz=400, n_hid=1550, n_layers=4, pad_token=1, qrnn=False,\n",
    "             output_p=0.25, hidden_p=0.1, input_p=0.2, embed_p=0.02, weight_p=0.15)\n",
    "trn_args = dict(bptt=70, drop_mult=0.5, alpha=2, beta=1)\n",
    "\n",
    "learn = text_classifier_learner(data_cls, AWD_LSTM, config=config, pretrained=False, **trn_args)\n",
    "learn.opt_func = partial(optim.Adam, betas=(0.7, 0.99))\n",
    "\n",
    "#load pretrained finetuned model\n",
    "learn.load_encoder('truevoice_enc')"
   ]
  },
  {
   "cell_type": "code",
   "execution_count": 23,
   "metadata": {
    "colab": {},
    "colab_type": "code",
    "id": "JlYUKABSw8TZ"
   },
   "outputs": [
    {
     "data": {
      "text/html": [
       "<table border=\"1\" class=\"dataframe\">\n",
       "  <thead>\n",
       "    <tr style=\"text-align: left;\">\n",
       "      <th>epoch</th>\n",
       "      <th>train_loss</th>\n",
       "      <th>valid_loss</th>\n",
       "      <th>accuracy</th>\n",
       "      <th>time</th>\n",
       "    </tr>\n",
       "  </thead>\n",
       "  <tbody>\n",
       "    <tr>\n",
       "      <td>0</td>\n",
       "      <td>0.743507</td>\n",
       "      <td>0.661197</td>\n",
       "      <td>0.786148</td>\n",
       "      <td>04:37</td>\n",
       "    </tr>\n",
       "  </tbody>\n",
       "</table>"
      ],
      "text/plain": [
       "<IPython.core.display.HTML object>"
      ]
     },
     "metadata": {},
     "output_type": "display_data"
    }
   ],
   "source": [
    "#train unfrozen\n",
    "learn.freeze_to(-1)\n",
    "learn.fit_one_cycle(1, 2e-2, moms=(0.8, 0.7))"
   ]
  },
  {
   "cell_type": "code",
   "execution_count": 24,
   "metadata": {
    "colab": {},
    "colab_type": "code",
    "id": "4BnVsEsew8Ta"
   },
   "outputs": [
    {
     "data": {
      "text/html": [
       "<table border=\"1\" class=\"dataframe\">\n",
       "  <thead>\n",
       "    <tr style=\"text-align: left;\">\n",
       "      <th>epoch</th>\n",
       "      <th>train_loss</th>\n",
       "      <th>valid_loss</th>\n",
       "      <th>accuracy</th>\n",
       "      <th>time</th>\n",
       "    </tr>\n",
       "  </thead>\n",
       "  <tbody>\n",
       "    <tr>\n",
       "      <td>0</td>\n",
       "      <td>0.549097</td>\n",
       "      <td>0.515926</td>\n",
       "      <td>0.834556</td>\n",
       "      <td>05:16</td>\n",
       "    </tr>\n",
       "  </tbody>\n",
       "</table>"
      ],
      "text/plain": [
       "<IPython.core.display.HTML object>"
      ]
     },
     "metadata": {},
     "output_type": "display_data"
    },
    {
     "data": {
      "text/html": [
       "<table border=\"1\" class=\"dataframe\">\n",
       "  <thead>\n",
       "    <tr style=\"text-align: left;\">\n",
       "      <th>epoch</th>\n",
       "      <th>train_loss</th>\n",
       "      <th>valid_loss</th>\n",
       "      <th>accuracy</th>\n",
       "      <th>time</th>\n",
       "    </tr>\n",
       "  </thead>\n",
       "  <tbody>\n",
       "    <tr>\n",
       "      <td>0</td>\n",
       "      <td>0.510950</td>\n",
       "      <td>0.470091</td>\n",
       "      <td>0.849784</td>\n",
       "      <td>07:08</td>\n",
       "    </tr>\n",
       "  </tbody>\n",
       "</table>"
      ],
      "text/plain": [
       "<IPython.core.display.HTML object>"
      ]
     },
     "metadata": {},
     "output_type": "display_data"
    },
    {
     "data": {
      "text/html": [
       "<table border=\"1\" class=\"dataframe\">\n",
       "  <thead>\n",
       "    <tr style=\"text-align: left;\">\n",
       "      <th>epoch</th>\n",
       "      <th>train_loss</th>\n",
       "      <th>valid_loss</th>\n",
       "      <th>accuracy</th>\n",
       "      <th>time</th>\n",
       "    </tr>\n",
       "  </thead>\n",
       "  <tbody>\n",
       "    <tr>\n",
       "      <td>0</td>\n",
       "      <td>0.451193</td>\n",
       "      <td>0.462586</td>\n",
       "      <td>0.853062</td>\n",
       "      <td>10:55</td>\n",
       "    </tr>\n",
       "    <tr>\n",
       "      <td>1</td>\n",
       "      <td>0.424389</td>\n",
       "      <td>0.457966</td>\n",
       "      <td>0.857096</td>\n",
       "      <td>10:46</td>\n",
       "    </tr>\n",
       "    <tr>\n",
       "      <td>2</td>\n",
       "      <td>0.330062</td>\n",
       "      <td>0.482420</td>\n",
       "      <td>0.858634</td>\n",
       "      <td>11:03</td>\n",
       "    </tr>\n",
       "    <tr>\n",
       "      <td>3</td>\n",
       "      <td>0.253293</td>\n",
       "      <td>0.522244</td>\n",
       "      <td>0.855634</td>\n",
       "      <td>11:01</td>\n",
       "    </tr>\n",
       "  </tbody>\n",
       "</table>"
      ],
      "text/plain": [
       "<IPython.core.display.HTML object>"
      ]
     },
     "metadata": {},
     "output_type": "display_data"
    },
    {
     "name": "stdout",
     "output_type": "stream",
     "text": [
      "Better model found at epoch 0 with accuracy value: 0.8530620336532593.\n",
      "Better model found at epoch 1 with accuracy value: 0.8570960164070129.\n",
      "Better model found at epoch 2 with accuracy value: 0.8586339950561523.\n"
     ]
    }
   ],
   "source": [
    "#gradual unfreezing (5 mins)\n",
    "learn.freeze_to(-2)\n",
    "learn.fit_one_cycle(1, slice(1e-2 / (2.6 ** 4), 1e-2), moms=(0.8, 0.7))\n",
    "learn.freeze_to(-3)\n",
    "learn.fit_one_cycle(1, slice(5e-3 / (2.6 ** 4), 5e-3), moms=(0.8, 0.7))\n",
    "learn.unfreeze()\n",
    "learn.fit_one_cycle(4, slice(1e-3 / (2.6 ** 4), 1e-3), moms=(0.8, 0.7), \n",
    "                   callbacks=[SaveModelCallback(learn, every='improvement', monitor='accuracy', name='truevoice_cls')])"
   ]
  },
  {
   "cell_type": "markdown",
   "metadata": {
    "colab_type": "text",
    "id": "CXyain04Qld6"
   },
   "source": [
    "# Evaluation"
   ]
  },
  {
   "cell_type": "code",
   "execution_count": 25,
   "metadata": {
    "colab": {},
    "colab_type": "code",
    "id": "tva3onsnw8Tb"
   },
   "outputs": [
    {
     "data": {
      "text/html": [],
      "text/plain": [
       "<IPython.core.display.HTML object>"
      ]
     },
     "metadata": {},
     "output_type": "display_data"
    }
   ],
   "source": [
    "probs, _ = learn.get_preds(ds_type = DatasetType.Test, ordered=True)\n",
    "classes = learn.data.train_ds.classes\n",
    "preds = np.array([classes[i] for i in probs.argmax(1).numpy()])\n",
    "prob = probs.numpy()"
   ]
  },
  {
   "cell_type": "code",
   "execution_count": 26,
   "metadata": {
    "colab": {},
    "colab_type": "code",
    "id": "4tCifC_yw8Tg"
   },
   "outputs": [
    {
     "name": "stdout",
     "output_type": "stream",
     "text": [
      "ULMFit Model Acc: 85.553001%\n",
      "ULMFit Model Micro f1: 0.855530%\n",
      "ULMFit Model Macro f1: 0.853765%\n"
     ]
    }
   ],
   "source": [
    "print(\"ULMFit Model Acc: %f%%\" % ((test_data['intent']== preds).sum() / test_data.shape[0] * 100))\n",
    "print(\"ULMFit Model Micro f1: %f%%\" % f1_score(test_data['intent'], preds, average='micro') )\n",
    "print(\"ULMFit Model Macro f1: %f%%\" % f1_score(test_data['intent'], preds, average='macro') )"
   ]
  },
  {
   "cell_type": "code",
   "execution_count": 27,
   "metadata": {},
   "outputs": [
    {
     "name": "stdout",
     "output_type": "stream",
     "text": [
      "               precision    recall  f1-score   support\n",
      "\n",
      "       การบิน       0.86      0.82      0.84     17156\n",
      "       ธนาคาร       0.86      0.90      0.88     53470\n",
      "ธุรกิจค้าปลีก       0.81      0.81      0.81     19984\n",
      "       น้ำมัน       0.84      0.80      0.82     23160\n",
      " พลังงานไฟฟ้า       0.83      0.73      0.78     12106\n",
      "    ภัยพิบัติ       0.86      0.89      0.87     11765\n",
      "       สงคราม       0.90      0.93      0.91     20486\n",
      "       อสังหา       0.86      0.85      0.85     34977\n",
      "     โรคระบาด       0.92      0.92      0.92      5214\n",
      "\n",
      "     accuracy                           0.86    198318\n",
      "    macro avg       0.86      0.85      0.85    198318\n",
      " weighted avg       0.86      0.86      0.85    198318\n",
      "\n"
     ]
    }
   ],
   "source": [
    "from sklearn.metrics import confusion_matrix, classification_report\n",
    "print(classification_report(test_data['intent'], preds, target_names=classes))"
   ]
  },
  {
   "cell_type": "code",
   "execution_count": null,
   "metadata": {},
   "outputs": [],
   "source": []
  },
  {
   "cell_type": "code",
   "execution_count": null,
   "metadata": {},
   "outputs": [],
   "source": []
  },
  {
   "cell_type": "code",
   "execution_count": null,
   "metadata": {},
   "outputs": [],
   "source": []
  },
  {
   "cell_type": "code",
   "execution_count": null,
   "metadata": {},
   "outputs": [],
   "source": []
  },
  {
   "cell_type": "code",
   "execution_count": null,
   "metadata": {},
   "outputs": [],
   "source": []
  },
  {
   "cell_type": "code",
   "execution_count": null,
   "metadata": {},
   "outputs": [],
   "source": []
  },
  {
   "cell_type": "code",
   "execution_count": null,
   "metadata": {},
   "outputs": [],
   "source": []
  }
 ],
 "metadata": {
  "accelerator": "GPU",
  "colab": {
   "collapsed_sections": [],
   "name": "FullNLP_ULMFit.ipynb",
   "provenance": [],
   "toc_visible": true
  },
  "kernelspec": {
   "display_name": "Python 3",
   "language": "python",
   "name": "python3"
  },
  "language_info": {
   "codemirror_mode": {
    "name": "ipython",
    "version": 3
   },
   "file_extension": ".py",
   "mimetype": "text/x-python",
   "name": "python",
   "nbconvert_exporter": "python",
   "pygments_lexer": "ipython3",
   "version": "3.7.3"
  }
 },
 "nbformat": 4,
 "nbformat_minor": 1
}
